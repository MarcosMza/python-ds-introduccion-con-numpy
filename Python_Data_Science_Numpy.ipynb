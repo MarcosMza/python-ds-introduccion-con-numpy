{
  "cells": [
    {
      "cell_type": "markdown",
      "metadata": {
        "id": "view-in-github",
        "colab_type": "text"
      },
      "source": [
        "<a href=\"https://colab.research.google.com/github/MarcosMza/python-ds-introduccion-con-numpy/blob/main/Python_Data_Science_Numpy.ipynb\" target=\"_parent\"><img src=\"https://colab.research.google.com/assets/colab-badge.svg\" alt=\"Open In Colab\"/></a>"
      ]
    },
    {
      "cell_type": "markdown",
      "metadata": {
        "id": "do3kUOLbltjE"
      },
      "source": [
        "# <font color=green> PYTHON PARA DATA SCIENCE - NUMPY\n",
        "---"
      ]
    },
    {
      "cell_type": "markdown",
      "metadata": {
        "id": "umSz9TLxltjG"
      },
      "source": [
        "# <font color=green> 1. INTRODUCCIÓN A PYTHON\n",
        "---"
      ]
    },
    {
      "cell_type": "markdown",
      "metadata": {
        "id": "gSnX12-sltjH"
      },
      "source": [
        "# 1.1 Introducción"
      ]
    },
    {
      "cell_type": "markdown",
      "metadata": {
        "id": "SRG_k55kltjI"
      },
      "source": [
        "> Python es un lenguaje de programación de alto nivel con soporte a múltiples paradigmas de programación. Es un proyecto *open source* y desde su surgimiento, en 1991, viene convirtiéndose en uno de los lenguajes de programación interpretados más populares.\n",
        ">\n",
        "> En los últimos años Python desarrolló una comunidad activa de procesamiento científico y análisis de datos y viene destacándose como uno de los lenguajes más relevantes cuando el asunto es ciencia de datos y machine learning, tanto en el entorno acadêmico como también en el entorno laboral."
      ]
    },
    {
      "cell_type": "markdown",
      "metadata": {
        "id": "2oZuKvWkltjJ"
      },
      "source": [
        "# 1.2 Instalación y entorno de trabajo"
      ]
    },
    {
      "cell_type": "markdown",
      "metadata": {
        "id": "v4P8bMEIltjK"
      },
      "source": [
        "### Instalación Local\n",
        "\n",
        "### https://www.python.org/downloads/\n",
        "### o\n",
        "### https://www.anaconda.com/distribution/"
      ]
    },
    {
      "cell_type": "markdown",
      "metadata": {
        "id": "FZtu5tjrltjL"
      },
      "source": [
        "### Google Colaboratory\n",
        "\n",
        "### https://colab.research.google.com"
      ]
    },
    {
      "cell_type": "markdown",
      "metadata": {
        "id": "C6vbfq8DltjM"
      },
      "source": [
        "### Verificando versión"
      ]
    },
    {
      "cell_type": "code",
      "execution_count": null,
      "metadata": {
        "colab": {
          "base_uri": "https://localhost:8080/"
        },
        "id": "jeuAt-4NltjM",
        "outputId": "54d5de5b-9b87-4c4e-ec9f-d8b2389a43c4"
      },
      "outputs": [
        {
          "output_type": "stream",
          "name": "stdout",
          "text": [
            "Python 3.10.12\n"
          ]
        }
      ],
      "source": [
        "!python -V"
      ]
    },
    {
      "cell_type": "markdown",
      "metadata": {
        "id": "v86aEyR2ltjR"
      },
      "source": [
        "# 1.3 Trabajando con Numpy"
      ]
    },
    {
      "cell_type": "code",
      "execution_count": null,
      "metadata": {
        "id": "6FEhElzNltjR"
      },
      "outputs": [],
      "source": [
        "#Biblioteca 'Numpy' uno de los paquetes más importante para el procesamiento numérico en python\n",
        "import numpy as np"
      ]
    },
    {
      "cell_type": "code",
      "execution_count": null,
      "metadata": {
        "id": "qjL5wPLKltjU"
      },
      "outputs": [],
      "source": [
        "#En este paso lo que realizamos es a travez de la libreria numpy,poder acceder al archivo km.txt\n",
        "#Creamos la variable km y con el método -load- cargamos el archivo\n",
        "km = np.loadtxt('carros-km.txt', dtype= int)"
      ]
    },
    {
      "cell_type": "code",
      "execution_count": null,
      "metadata": {
        "colab": {
          "base_uri": "https://localhost:8080/"
        },
        "id": "OFaxgUptltjW",
        "outputId": "a1854122-142c-4ab3-a7c0-a8951b74ad79",
        "scrolled": true
      },
      "outputs": [
        {
          "output_type": "execute_result",
          "data": {
            "text/plain": [
              "array([ 44410,   5712,  37123,      0,  25757,  10728,      0,  77599,\n",
              "        99197,  37978,  12859,   8052,  89773,      0,  41457, 115607,\n",
              "        46449,      0,  37086,  15173, 101193,      0,  98079, 102959,\n",
              "            0,      0,   5795,      0,  58848,  94381,  30163,  53332,\n",
              "        17720,  33808,  90684,  43975,      0,      0,   5526,      0,\n",
              "        93415,  40762,      0,  86302,      0,   9755,  69945,   2395,\n",
              "            0,  80349,  85554,  50496,  67716,  93947,  35345,  81007,\n",
              "       119513,      0,      0,      0,      0,      0, 118895,  48509,\n",
              "       100912,  95649,      0,  90495,      0,  29132,  23802,  84992,\n",
              "        54395,  26731,  44329, 118236, 113808,    610,      0,      0,\n",
              "        12887,  79607,  90924,  42733,      0,      0, 117714, 113885,\n",
              "            0,  30511,  74867, 119760,   8356,  64247,  88661,   4539,\n",
              "       110116,  33215,  92001,      0,  81708,  70641,      0,  91277,\n",
              "        26544,  52596,  47503,  89056,  28834, 110564,  56638,  17357,\n",
              "        74015,  15196,      0,  10821,      0,      0,   9595,  99052,\n",
              "        52389, 119945,  96005,  31639,      0,  80187,      0,  58212,\n",
              "        61672,  32017,      0,  56944,      0,  86519,   4821, 101025,\n",
              "        30705,      0,  32555, 103389,      0,  55289,      0,      0,\n",
              "       115930,  66437,  96800,  14237,  19896, 113045, 114942,   3173,\n",
              "        83611,  25356,  88634,   2314,   2627,  52034,      0,      0,\n",
              "        79577, 108201,  76453,  57683,  96610, 109001,  26212,  45971,\n",
              "        49182,  49907,  38620,  60996,  73914, 107392,   9146,      0,\n",
              "        17924,      0, 116949,  20476,  52804,   8849,  91724,  32056,\n",
              "        74886,      0,      0,  52189,  83559,      0,  20328,      0,\n",
              "        75577,  33659, 104341,  25510,  18965,  87161,   6652,  55738,\n",
              "            0,      0,      0,  64320,      0,  68678,  71697,      0,\n",
              "        34783,  33772,  85127,  13606,  35647,  95128,  14046,  41194,\n",
              "            0,  96100, 103900,  43814,  24638,      0, 110966,  15987,\n",
              "        53369,  10077,  71544,    107,   8394,  41498, 116002, 100858,\n",
              "        67475,   8497,   4420,      0,  58537,      0,      0, 112016,\n",
              "        91840, 112787,      0,      0,   9293,      0,  55083,  48796,\n",
              "            0,  89685,  85384,  98108,  71280,  27505,  29981,  52637,\n",
              "         7685,  50188])"
            ]
          },
          "metadata": {},
          "execution_count": 7
        }
      ],
      "source": [
        "km"
      ]
    },
    {
      "cell_type": "code",
      "execution_count": null,
      "metadata": {
        "id": "FXjYowRDltjZ"
      },
      "outputs": [],
      "source": [
        "#Cargamos el archivo años\n",
        "años = np.loadtxt('carros-años.txt', dtype= int)"
      ]
    },
    {
      "cell_type": "code",
      "execution_count": null,
      "metadata": {
        "colab": {
          "base_uri": "https://localhost:8080/"
        },
        "id": "f_d2Ya-vltjb",
        "outputId": "bc94539c-f8c6-4b23-e1b2-542f7b180b63"
      },
      "outputs": [
        {
          "output_type": "execute_result",
          "data": {
            "text/plain": [
              "array([2003, 1991, 1990, 2020, 2006, 2012, 2020, 2009, 2010, 2011, 2002,\n",
              "       2007, 2001, 2020, 2009, 2016, 2012, 2020, 2016, 2017, 2002, 2020,\n",
              "       1994, 1991, 2020, 2020, 2016, 2020, 2002, 1991, 1997, 1995, 2018,\n",
              "       1991, 2014, 1995, 2020, 2020, 2009, 2020, 2013, 2003, 2020, 2002,\n",
              "       2020, 2002, 2004, 2001, 2020, 2003, 2009, 2006, 2000, 2006, 2010,\n",
              "       1994, 2007, 2020, 2020, 2020, 2020, 2020, 2017, 2011, 2001, 1996,\n",
              "       2020, 1994, 2020, 2007, 1994, 2007, 1997, 2006, 2013, 1994, 2008,\n",
              "       2008, 2020, 2020, 1999, 2007, 1993, 1995, 2020, 2020, 2016, 2011,\n",
              "       2020, 2002, 2013, 2017, 2016, 2008, 2018, 2003, 2003, 2004, 2010,\n",
              "       2020, 2006, 2001, 2020, 2015, 2018, 2017, 1992, 2001, 1993, 1995,\n",
              "       2003, 2014, 2008, 2013, 2020, 2017, 2020, 2020, 2006, 2015, 2007,\n",
              "       2005, 2017, 1998, 2020, 1999, 2020, 2009, 2003, 1994, 2020, 1994,\n",
              "       2020, 2015, 1996, 1997, 1993, 2020, 1992, 1995, 2020, 1990, 2020,\n",
              "       2020, 1991, 1990, 2012, 2007, 2013, 2000, 2002, 1996, 1996, 2015,\n",
              "       1993, 2013, 2013, 2009, 2020, 2020, 2002, 1997, 1998, 2004, 1996,\n",
              "       2015, 2016, 2005, 1999, 1995, 1993, 2004, 2013, 1998, 2018, 2020,\n",
              "       2018, 2020, 1990, 2009, 1990, 2006, 2002, 1991, 1992, 2020, 2020,\n",
              "       2005, 2010, 2020, 2016, 2020, 2010, 1994, 2001, 2014, 1996, 1993,\n",
              "       1993, 2001, 2020, 2020, 2020, 2007, 2020, 2016, 2014, 2020, 2015,\n",
              "       2015, 1996, 2002, 2005, 1995, 1999, 2005, 2020, 1997, 1990, 2001,\n",
              "       2013, 2020, 2017, 2011, 2005, 2007, 1993, 1991, 1991, 1997, 2000,\n",
              "       2007, 2006, 2015, 2008, 2020, 1996, 2020, 2020, 2014, 2004, 2008,\n",
              "       2020, 2020, 2012, 2020, 1996, 2011, 2020, 2010, 2007, 1994, 2007,\n",
              "       2014, 1991, 2002, 1996, 1992])"
            ]
          },
          "metadata": {},
          "execution_count": 9
        }
      ],
      "source": [
        "años"
      ]
    },
    {
      "cell_type": "code",
      "execution_count": null,
      "metadata": {
        "id": "hxLZatdeltje"
      },
      "outputs": [],
      "source": []
    },
    {
      "cell_type": "code",
      "execution_count": null,
      "metadata": {
        "id": "GLsHBNakltjg"
      },
      "outputs": [],
      "source": []
    },
    {
      "cell_type": "code",
      "execution_count": null,
      "metadata": {
        "id": "oSSYu6nhltji"
      },
      "outputs": [],
      "source": []
    },
    {
      "cell_type": "code",
      "execution_count": null,
      "metadata": {
        "id": "D6qMoutGltjk"
      },
      "outputs": [],
      "source": []
    },
    {
      "cell_type": "code",
      "execution_count": null,
      "metadata": {
        "id": "XIBz0Vowltjn"
      },
      "outputs": [],
      "source": []
    },
    {
      "cell_type": "code",
      "execution_count": null,
      "metadata": {
        "id": "u8_CU3F4ltjq"
      },
      "outputs": [],
      "source": []
    },
    {
      "cell_type": "markdown",
      "metadata": {
        "id": "wMdUsAq4ltjs"
      },
      "source": [
        "### Obtener el promedio de kilometros recorridos por año"
      ]
    },
    {
      "cell_type": "code",
      "execution_count": null,
      "metadata": {
        "id": "cD2M3s3Fltjt"
      },
      "outputs": [],
      "source": [
        "#Con esta formula obtenemos los km al dia de la fecha\n",
        "km_promedio = km / (2023 - años)"
      ]
    },
    {
      "cell_type": "code",
      "execution_count": null,
      "metadata": {
        "colab": {
          "base_uri": "https://localhost:8080/"
        },
        "id": "65IyPzKKltjv",
        "outputId": "324cef08-33bb-4d06-aa60-a4482e544642"
      },
      "outputs": [
        {
          "output_type": "execute_result",
          "data": {
            "text/plain": [
              "array([2.22050000e+03, 1.78500000e+02, 1.12493939e+03, 0.00000000e+00,\n",
              "       1.51511765e+03, 9.75272727e+02, 0.00000000e+00, 5.54278571e+03,\n",
              "       7.63053846e+03, 3.16483333e+03, 6.12333333e+02, 5.03250000e+02,\n",
              "       4.08059091e+03, 0.00000000e+00, 2.96121429e+03, 1.65152857e+04,\n",
              "       4.22263636e+03, 0.00000000e+00, 5.29800000e+03, 2.52883333e+03,\n",
              "       4.81871429e+03, 0.00000000e+00, 3.38203448e+03, 3.21746875e+03,\n",
              "       0.00000000e+00, 0.00000000e+00, 8.27857143e+02, 0.00000000e+00,\n",
              "       2.80228571e+03, 2.94940625e+03, 1.16011538e+03, 1.90471429e+03,\n",
              "       3.54400000e+03, 1.05650000e+03, 1.00760000e+04, 1.57053571e+03,\n",
              "       0.00000000e+00, 0.00000000e+00, 3.94714286e+02, 0.00000000e+00,\n",
              "       9.34150000e+03, 2.03810000e+03, 0.00000000e+00, 4.10961905e+03,\n",
              "       0.00000000e+00, 4.64523810e+02, 3.68131579e+03, 1.08863636e+02,\n",
              "       0.00000000e+00, 4.01745000e+03, 6.11100000e+03, 2.97035294e+03,\n",
              "       2.94417391e+03, 5.52629412e+03, 2.71884615e+03, 2.79334483e+03,\n",
              "       7.46956250e+03, 0.00000000e+00, 0.00000000e+00, 0.00000000e+00,\n",
              "       0.00000000e+00, 0.00000000e+00, 1.98158333e+04, 4.04241667e+03,\n",
              "       4.58690909e+03, 3.54255556e+03, 0.00000000e+00, 3.12051724e+03,\n",
              "       0.00000000e+00, 1.82075000e+03, 8.20758621e+02, 5.31200000e+03,\n",
              "       2.09211538e+03, 1.57241176e+03, 4.43290000e+03, 4.07710345e+03,\n",
              "       7.58720000e+03, 4.06666667e+01, 0.00000000e+00, 0.00000000e+00,\n",
              "       5.36958333e+02, 4.97543750e+03, 3.03080000e+03, 1.52617857e+03,\n",
              "       0.00000000e+00, 0.00000000e+00, 1.68162857e+04, 9.49041667e+03,\n",
              "       0.00000000e+00, 1.45290476e+03, 7.48670000e+03, 1.99600000e+04,\n",
              "       1.19371429e+03, 4.28313333e+03, 1.77322000e+04, 2.26950000e+02,\n",
              "       5.50580000e+03, 1.74815789e+03, 7.07700000e+03, 0.00000000e+00,\n",
              "       4.80635294e+03, 3.21095455e+03, 0.00000000e+00, 1.14096250e+04,\n",
              "       5.30880000e+03, 8.76600000e+03, 1.53235484e+03, 4.04800000e+03,\n",
              "       9.61133333e+02, 3.94871429e+03, 2.83190000e+03, 1.92855556e+03,\n",
              "       4.93433333e+03, 1.51960000e+03, 0.00000000e+00, 1.80350000e+03,\n",
              "       0.00000000e+00, 0.00000000e+00, 5.64411765e+02, 1.23815000e+04,\n",
              "       3.27431250e+03, 6.66361111e+03, 1.60008333e+04, 1.26556000e+03,\n",
              "       0.00000000e+00, 3.34112500e+03, 0.00000000e+00, 4.15800000e+03,\n",
              "       3.08360000e+03, 1.10403448e+03, 0.00000000e+00, 1.96358621e+03,\n",
              "       0.00000000e+00, 1.08148750e+04, 1.78555556e+02, 3.88557692e+03,\n",
              "       1.02350000e+03, 0.00000000e+00, 1.05016129e+03, 3.69246429e+03,\n",
              "       0.00000000e+00, 1.67542424e+03, 0.00000000e+00, 0.00000000e+00,\n",
              "       3.62281250e+03, 2.01324242e+03, 8.80000000e+03, 8.89812500e+02,\n",
              "       1.98960000e+03, 4.91500000e+03, 5.47342857e+03, 1.17518519e+02,\n",
              "       3.09670370e+03, 3.16950000e+03, 2.95446667e+03, 2.31400000e+02,\n",
              "       2.62700000e+02, 3.71671429e+03, 0.00000000e+00, 0.00000000e+00,\n",
              "       3.78938095e+03, 4.16157692e+03, 3.05812000e+03, 3.03594737e+03,\n",
              "       3.57814815e+03, 1.36251250e+04, 3.74457143e+03, 2.55394444e+03,\n",
              "       2.04925000e+03, 1.78239286e+03, 1.28733333e+03, 3.21031579e+03,\n",
              "       7.39140000e+03, 4.29568000e+03, 1.82920000e+03, 0.00000000e+00,\n",
              "       3.58480000e+03, 0.00000000e+00, 3.54390909e+03, 1.46257143e+03,\n",
              "       1.60012121e+03, 5.20529412e+02, 4.36780952e+03, 1.00175000e+03,\n",
              "       2.41567742e+03, 0.00000000e+00, 0.00000000e+00, 2.89938889e+03,\n",
              "       6.42761538e+03, 0.00000000e+00, 2.90400000e+03, 0.00000000e+00,\n",
              "       5.81361538e+03, 1.16065517e+03, 4.74277273e+03, 2.83444444e+03,\n",
              "       7.02407407e+02, 2.90536667e+03, 2.21733333e+02, 2.53354545e+03,\n",
              "       0.00000000e+00, 0.00000000e+00, 0.00000000e+00, 4.02000000e+03,\n",
              "       0.00000000e+00, 9.81114286e+03, 7.96633333e+03, 0.00000000e+00,\n",
              "       4.34787500e+03, 4.22150000e+03, 3.15285185e+03, 6.47904762e+02,\n",
              "       1.98038889e+03, 3.39742857e+03, 5.85250000e+02, 2.28855556e+03,\n",
              "       0.00000000e+00, 3.69615385e+03, 3.14848485e+03, 1.99154545e+03,\n",
              "       2.46380000e+03, 0.00000000e+00, 1.84943333e+04, 1.33225000e+03,\n",
              "       2.96494444e+03, 6.29812500e+02, 2.38480000e+03, 3.34375000e+00,\n",
              "       2.62312500e+02, 1.59607692e+03, 5.04356522e+03, 6.30362500e+03,\n",
              "       3.96911765e+03, 1.06212500e+03, 2.94666667e+02, 0.00000000e+00,\n",
              "       2.16803704e+03, 0.00000000e+00, 0.00000000e+00, 1.24462222e+04,\n",
              "       4.83368421e+03, 7.51913333e+03, 0.00000000e+00, 0.00000000e+00,\n",
              "       8.44818182e+02, 0.00000000e+00, 2.04011111e+03, 4.06633333e+03,\n",
              "       0.00000000e+00, 6.89884615e+03, 5.33650000e+03, 3.38303448e+03,\n",
              "       4.45500000e+03, 3.05611111e+03, 9.36906250e+02, 2.50652381e+03,\n",
              "       2.84629630e+02, 1.61896774e+03])"
            ]
          },
          "metadata": {},
          "execution_count": 11
        }
      ],
      "source": [
        "km_promedio"
      ]
    },
    {
      "cell_type": "code",
      "execution_count": null,
      "metadata": {
        "colab": {
          "base_uri": "https://localhost:8080/"
        },
        "id": "Z0JCmAWvltjy",
        "outputId": "4c241d8e-6223-4690-bb45-32f2386659f4"
      },
      "outputs": [
        {
          "output_type": "execute_result",
          "data": {
            "text/plain": [
              "numpy.ndarray"
            ]
          },
          "metadata": {},
          "execution_count": 12
        }
      ],
      "source": [
        "type(km_promedio)"
      ]
    },
    {
      "cell_type": "markdown",
      "metadata": {
        "id": "KdG5NmmGltj0"
      },
      "source": [
        "# <font color=green> 2. CARACTERÍSTICAS BÁSICAS DEL LENGUAJE\n",
        "---"
      ]
    },
    {
      "cell_type": "markdown",
      "metadata": {
        "id": "X1K5kisFltj1"
      },
      "source": [
        "# 2.1 Operaciones matemáticas\n",
        "\n",
        "### Operadores aritméticos: $+$, $-$, $*$, $/$, $**$, $\\%$, $//$"
      ]
    },
    {
      "cell_type": "markdown",
      "metadata": {
        "id": "8YCDVpbYltj1"
      },
      "source": [
        "### Suma ($+$)"
      ]
    },
    {
      "cell_type": "code",
      "execution_count": null,
      "metadata": {
        "colab": {
          "base_uri": "https://localhost:8080/"
        },
        "id": "h6DsMqhaltj2",
        "outputId": "26d0cb32-2444-4f9e-b2f8-4a5d7309c090"
      },
      "outputs": [
        {
          "output_type": "execute_result",
          "data": {
            "text/plain": [
              "4"
            ]
          },
          "metadata": {},
          "execution_count": 15
        }
      ],
      "source": [
        "2 + 2"
      ]
    },
    {
      "cell_type": "markdown",
      "metadata": {
        "id": "WeJG-WJBltj8"
      },
      "source": [
        "### Resta ($-$)"
      ]
    },
    {
      "cell_type": "code",
      "execution_count": null,
      "metadata": {
        "colab": {
          "base_uri": "https://localhost:8080/"
        },
        "id": "zoB7_OcRltj9",
        "outputId": "19fa5580-00c9-4145-8c11-d3de72a1b8f5"
      },
      "outputs": [
        {
          "output_type": "execute_result",
          "data": {
            "text/plain": [
              "2"
            ]
          },
          "metadata": {},
          "execution_count": 16
        }
      ],
      "source": [
        "4 - 2"
      ]
    },
    {
      "cell_type": "markdown",
      "metadata": {
        "id": "zuv8N7fjltkC"
      },
      "source": [
        "### Multiplicación ($*$)"
      ]
    },
    {
      "cell_type": "code",
      "execution_count": null,
      "metadata": {
        "colab": {
          "base_uri": "https://localhost:8080/"
        },
        "id": "TAWG7xSTltkD",
        "outputId": "53534745-2606-45e6-d60a-dba3ddfdbe9d"
      },
      "outputs": [
        {
          "output_type": "execute_result",
          "data": {
            "text/plain": [
              "6"
            ]
          },
          "metadata": {},
          "execution_count": 17
        }
      ],
      "source": [
        "2 * 3"
      ]
    },
    {
      "cell_type": "markdown",
      "metadata": {
        "id": "dMp7BsnwltkF"
      },
      "source": [
        "### División ($/$) y ($//$)\n",
        "La operación división siempre devuelve un número con punto decimal"
      ]
    },
    {
      "cell_type": "code",
      "execution_count": null,
      "metadata": {
        "colab": {
          "base_uri": "https://localhost:8080/"
        },
        "id": "DD5kx3H3ltkF",
        "outputId": "1372f071-b289-49ac-967d-acdfda1cbbb1"
      },
      "outputs": [
        {
          "output_type": "execute_result",
          "data": {
            "text/plain": [
              "3.3333333333333335"
            ]
          },
          "metadata": {},
          "execution_count": 19
        }
      ],
      "source": [
        "#Cuando tenemos una división con resultado decimal, quiere decir que la divisón tiene resto\n",
        "10 / 3"
      ]
    },
    {
      "cell_type": "code",
      "execution_count": null,
      "metadata": {
        "colab": {
          "base_uri": "https://localhost:8080/"
        },
        "id": "ji0CYH3UltkI",
        "outputId": "9bd48cd7-6bfe-479a-c5fe-9c6572f8644f"
      },
      "outputs": [
        {
          "output_type": "execute_result",
          "data": {
            "text/plain": [
              "3"
            ]
          },
          "metadata": {},
          "execution_count": 20
        }
      ],
      "source": [
        "#Cuando utilizamos // lo que hace es traerme la parte entera de la division,\n",
        "#es por eso que solo me trae el 3 como resultado\n",
        "10 // 3"
      ]
    },
    {
      "cell_type": "markdown",
      "metadata": {
        "id": "3DSO7TcvltkL"
      },
      "source": [
        "### Exponenciación ($**$)"
      ]
    },
    {
      "cell_type": "code",
      "execution_count": null,
      "metadata": {
        "colab": {
          "base_uri": "https://localhost:8080/"
        },
        "id": "tBKvl2TWltkM",
        "outputId": "528c0767-1751-46ac-d538-20d15ea776a8"
      },
      "outputs": [
        {
          "output_type": "execute_result",
          "data": {
            "text/plain": [
              "8"
            ]
          },
          "metadata": {},
          "execution_count": 21
        }
      ],
      "source": [
        "#Esta función es el número elevado al exponete que deseamos buscar\n",
        "2 ** 3"
      ]
    },
    {
      "cell_type": "markdown",
      "metadata": {
        "id": "MhD56p-9ltkQ"
      },
      "source": [
        "### Resto de la división ($\\%$)"
      ]
    },
    {
      "cell_type": "code",
      "execution_count": null,
      "metadata": {
        "colab": {
          "base_uri": "https://localhost:8080/"
        },
        "id": "bfa7phO6ltkR",
        "outputId": "34e2a26d-1954-497d-b82e-34d44d313894"
      },
      "outputs": [
        {
          "output_type": "execute_result",
          "data": {
            "text/plain": [
              "1"
            ]
          },
          "metadata": {},
          "execution_count": 22
        }
      ],
      "source": [
        "#Con esta función lo que nos trae es el resto de la división\n",
        "10 % 3"
      ]
    },
    {
      "cell_type": "code",
      "execution_count": null,
      "metadata": {
        "colab": {
          "base_uri": "https://localhost:8080/"
        },
        "id": "khIEx6olltkT",
        "outputId": "9d9d4bd5-3d0a-459d-ec5c-67b813e4a57b"
      },
      "outputs": [
        {
          "output_type": "execute_result",
          "data": {
            "text/plain": [
              "0"
            ]
          },
          "metadata": {},
          "execution_count": 23
        }
      ],
      "source": [
        "10 % 2"
      ]
    },
    {
      "cell_type": "markdown",
      "metadata": {
        "id": "8pVVp5fsltkV"
      },
      "source": [
        "### Expresiones matemáticas"
      ]
    },
    {
      "cell_type": "code",
      "execution_count": null,
      "metadata": {
        "colab": {
          "base_uri": "https://localhost:8080/"
        },
        "id": "jlQTk4gNltkW",
        "outputId": "6615d829-5783-43fb-d153-843805841664"
      },
      "outputs": [
        {
          "output_type": "execute_result",
          "data": {
            "text/plain": [
              "16"
            ]
          },
          "metadata": {},
          "execution_count": 24
        }
      ],
      "source": [
        "#En estos casos cumple con el orgden de prioridad según reglas matemáticas\n",
        "5 * 2 + 3 * 2"
      ]
    },
    {
      "cell_type": "code",
      "execution_count": null,
      "metadata": {
        "colab": {
          "base_uri": "https://localhost:8080/"
        },
        "id": "kkCb6Crgltka",
        "outputId": "0962e700-5fa7-407f-b92e-dc47612d4bf7"
      },
      "outputs": [
        {
          "output_type": "execute_result",
          "data": {
            "text/plain": [
              "16"
            ]
          },
          "metadata": {},
          "execution_count": 25
        }
      ],
      "source": [
        "(5 * 2) + (3 * 2)"
      ]
    },
    {
      "cell_type": "code",
      "execution_count": null,
      "metadata": {
        "colab": {
          "base_uri": "https://localhost:8080/"
        },
        "id": "UD12tlgAltkd",
        "outputId": "0e2301ac-2726-4a8b-b21d-b0aa963fe664"
      },
      "outputs": [
        {
          "output_type": "execute_result",
          "data": {
            "text/plain": [
              "50"
            ]
          },
          "metadata": {},
          "execution_count": 26
        }
      ],
      "source": [
        "#Cuando aplicamos () tiene orden de prioridad para poder realizar la operación\n",
        "5 * (2 + 3) * 2"
      ]
    },
    {
      "cell_type": "markdown",
      "metadata": {
        "id": "a5tKQ5Beltkf"
      },
      "source": [
        "### La variable _\n",
        "\n",
        "En el modo interactivo, el último resultado impreso en pantalla es atribuído a la variable _"
      ]
    },
    {
      "cell_type": "code",
      "execution_count": null,
      "metadata": {
        "colab": {
          "base_uri": "https://localhost:8080/"
        },
        "id": "VkHEx516ltkg",
        "outputId": "0cf7b298-bfb5-4768-d9c8-fcca236763cd"
      },
      "outputs": [
        {
          "output_type": "execute_result",
          "data": {
            "text/plain": [
              "10"
            ]
          },
          "metadata": {},
          "execution_count": 27
        }
      ],
      "source": [
        "#Este operador lo que realiza es almacenar el último resultado\n",
        "5 * 2"
      ]
    },
    {
      "cell_type": "code",
      "execution_count": null,
      "metadata": {
        "colab": {
          "base_uri": "https://localhost:8080/"
        },
        "id": "dFShsobXltki",
        "outputId": "a351a365-d9ff-4170-da65-fb9cfc4d078a"
      },
      "outputs": [
        {
          "output_type": "execute_result",
          "data": {
            "text/plain": [
              "16"
            ]
          },
          "metadata": {},
          "execution_count": 29
        }
      ],
      "source": [
        "#El _ será tratado como un número\n",
        "_ + 3 * 2"
      ]
    },
    {
      "cell_type": "code",
      "execution_count": null,
      "metadata": {
        "colab": {
          "base_uri": "https://localhost:8080/"
        },
        "id": "hJIpR3KUltkk",
        "outputId": "6eb4a6c9-ced6-4797-e07b-04ce7d2d8885"
      },
      "outputs": [
        {
          "output_type": "execute_result",
          "data": {
            "text/plain": [
              "8.0"
            ]
          },
          "metadata": {},
          "execution_count": 30
        }
      ],
      "source": [
        "_ / 2"
      ]
    },
    {
      "cell_type": "markdown",
      "metadata": {
        "id": "MUrQAf6Mltkm"
      },
      "source": [
        "# 2.2 Variables"
      ]
    },
    {
      "cell_type": "markdown",
      "metadata": {
        "id": "qaVLKIeultkn"
      },
      "source": [
        "### Nombres de variables\n",
        "\n",
        "- Nombres de variables pueden comenzar con letras (a - z, A - Z) o con el símbolo *underscore* (_):\n",
        "\n",
        "    > Altura\n",
        "    >\n",
        "    > _peso\n",
        "    \n",
        "- El resto del nombre puede contener letras, números o el símbolo \"_\":\n",
        "\n",
        "    > nombre_de_variable\n",
        "    >\n",
        "    > _valor\n",
        "    >\n",
        "    > dia_28_11_\n",
        "    \n",
        "\n",
        "- Los nombres son *case sensitive*:\n",
        "\n",
        "    > Nombre_De_Variable $\\ne$ nombre_de_variable $\\ne$ NOMBRE_DE_VARIABLE\n",
        "    \n",
        "### <font color=red>Observaciones:\n",
        "- Existen algumas palabras reservadas del lenguaje que no pueden ser utilizadas como nombres de variables:\n",
        "\n",
        "| |Lista de palabras <br>reservadas en Python| |\n",
        "|:-------------:|:------------:|:-------------:|\n",
        "| and           | as           | not           |\n",
        "| assert        | finally      | or            |\n",
        "| break         | for          | pass          |\n",
        "| class         | from         | nonlocal      |\n",
        "| continue      | global       | raise         |\n",
        "| def           | if           | return        |\n",
        "| del           | import       | try           |\n",
        "| elif          | in           | while         |\n",
        "| else          | is           | with          |\n",
        "| except        | lambda       | yield         |\n",
        "| False         | True         | None          |"
      ]
    },
    {
      "cell_type": "markdown",
      "metadata": {
        "id": "3frWjfAtltkn"
      },
      "source": [
        "### Declaración de variables\n",
        "\n",
        "### Operadores de asignación: $=$, $+=$, $-=$, $*=$, $/=$, $**=$, $\\%=$, $//=$"
      ]
    },
    {
      "cell_type": "code",
      "execution_count": null,
      "metadata": {
        "id": "7VIcrXNHltko"
      },
      "outputs": [],
      "source": [
        "#Creamos Variables\n",
        "año_actual = 2023\n",
        "año_fabricacion = 2003\n",
        "km_total = 44410.0"
      ]
    },
    {
      "cell_type": "code",
      "execution_count": null,
      "metadata": {
        "colab": {
          "base_uri": "https://localhost:8080/"
        },
        "id": "atVoqp6bltkq",
        "outputId": "fc98af76-dfa8-4d94-ad11-9719044b9e09"
      },
      "outputs": [
        {
          "output_type": "execute_result",
          "data": {
            "text/plain": [
              "2023"
            ]
          },
          "metadata": {},
          "execution_count": 34
        }
      ],
      "source": [
        "año_actual"
      ]
    },
    {
      "cell_type": "code",
      "execution_count": null,
      "metadata": {
        "colab": {
          "base_uri": "https://localhost:8080/"
        },
        "id": "_t82qXrOltkt",
        "outputId": "ece7cff3-fd7f-481d-ff78-47956fabbaa8"
      },
      "outputs": [
        {
          "output_type": "execute_result",
          "data": {
            "text/plain": [
              "2003"
            ]
          },
          "metadata": {},
          "execution_count": 35
        }
      ],
      "source": [
        "año_fabricacion"
      ]
    },
    {
      "cell_type": "code",
      "execution_count": null,
      "metadata": {
        "colab": {
          "base_uri": "https://localhost:8080/"
        },
        "id": "1anwuDHiltkv",
        "outputId": "9a7604e6-62b4-4452-ae3a-99a1fa23d740"
      },
      "outputs": [
        {
          "output_type": "execute_result",
          "data": {
            "text/plain": [
              "44410.0"
            ]
          },
          "metadata": {},
          "execution_count": 36
        }
      ],
      "source": [
        "km_total"
      ]
    },
    {
      "cell_type": "markdown",
      "metadata": {
        "id": "gCBkfq_8ltky"
      },
      "source": [
        "# $$km_{promedio} = \\frac {km_{total}}{(Año_{actual} - Año_{fabricación})}$$"
      ]
    },
    {
      "cell_type": "markdown",
      "metadata": {
        "id": "zswWS4hNltky"
      },
      "source": [
        "### Operaciones con variables"
      ]
    },
    {
      "cell_type": "code",
      "execution_count": null,
      "metadata": {
        "colab": {
          "base_uri": "https://localhost:8080/"
        },
        "id": "HxxU0rnfltkz",
        "outputId": "bb7e3bc1-35fd-474f-8dcd-2efa175dc59f"
      },
      "outputs": [
        {
          "output_type": "execute_result",
          "data": {
            "text/plain": [
              "2220.5"
            ]
          },
          "metadata": {},
          "execution_count": 37
        }
      ],
      "source": [
        "#Creamos la variable para obtener el promedio y realizamos el calculo\n",
        "km_promedio = km_total / (año_actual - año_fabricacion)\n",
        "km_promedio"
      ]
    },
    {
      "cell_type": "code",
      "execution_count": null,
      "metadata": {
        "colab": {
          "base_uri": "https://localhost:8080/"
        },
        "id": "_2Qhb32jltk1",
        "outputId": "3faecd75-a588-4c5f-9eea-1e744f582d17"
      },
      "outputs": [
        {
          "output_type": "execute_result",
          "data": {
            "text/plain": [
              "2220.5"
            ]
          },
          "metadata": {},
          "execution_count": 38
        }
      ],
      "source": [
        "#vamos a realizarlo todo junto como en los casos de programación real\n",
        "año_actual = 2023\n",
        "año_fabricacion = 2003\n",
        "km_total = 44410.0\n",
        "km_promedio = km_total / (año_actual - año_fabricacion)\n",
        "km_promedio"
      ]
    },
    {
      "cell_type": "code",
      "execution_count": null,
      "metadata": {
        "colab": {
          "base_uri": "https://localhost:8080/"
        },
        "id": "nCJzA7dyltk3",
        "outputId": "6b8528b0-3f86-4207-9275-69968368a499"
      },
      "outputs": [
        {
          "output_type": "execute_result",
          "data": {
            "text/plain": [
              "46630.5"
            ]
          },
          "metadata": {},
          "execution_count": 39
        }
      ],
      "source": [
        "#teniendo en cuanta que tenemos el km promedio, lo que calcularemos es cuantos\n",
        "#km tendria el año siguiente, eso lo hacemos teniendo en cuanta los datos obtenidos\n",
        "año_actual = 2023\n",
        "año_fabricacion = 2003\n",
        "km_total = 44410.0\n",
        "km_promedio = km_total / (año_actual - año_fabricacion)\n",
        "#se reemplaza el valor de km_total por uno nuevo que es el que obtenemos para el siguiente año 2024\n",
        "km_total = km_total + km_promedio\n",
        "km_total"
      ]
    },
    {
      "cell_type": "code",
      "execution_count": null,
      "metadata": {
        "colab": {
          "base_uri": "https://localhost:8080/"
        },
        "id": "ifRwQ0vEltk9",
        "outputId": "c30ecd23-df83-4d4f-f6a1-798be44ac2b7"
      },
      "outputs": [
        {
          "output_type": "execute_result",
          "data": {
            "text/plain": [
              "46630.5"
            ]
          },
          "metadata": {},
          "execution_count": 40
        }
      ],
      "source": [
        "año_actual = 2023\n",
        "año_fabricacion = 2003\n",
        "km_total = 44410.0\n",
        "km_promedio = km_total / (año_actual - año_fabricacion)\n",
        "#en este caso utilizamos el operador '+=' (cuando lo que vamos a sumar es la misma variable)\n",
        "km_total += km_promedio\n",
        "km_total"
      ]
    },
    {
      "cell_type": "markdown",
      "metadata": {
        "id": "fDBrHWSBltlB"
      },
      "source": [
        "### Conclusión:\n",
        "```\n",
        "\"valor = valor + 1\" es equivalente a \"valor += 1\"\n",
        "```"
      ]
    },
    {
      "cell_type": "markdown",
      "metadata": {
        "id": "uVAyJbmAltlC"
      },
      "source": [
        "### Declaración múltiple"
      ]
    },
    {
      "cell_type": "code",
      "execution_count": null,
      "metadata": {
        "id": "oMWEzjPOltlC"
      },
      "outputs": [],
      "source": [
        "#Otra forma de declarar variables\n",
        "año_actual, año_fabricacion, km_total = 2023, 2003, 44410.0"
      ]
    },
    {
      "cell_type": "code",
      "execution_count": null,
      "metadata": {
        "colab": {
          "base_uri": "https://localhost:8080/"
        },
        "id": "9ZKlHkLultlE",
        "outputId": "b2a2a881-bf19-4add-e00d-2de2214e715c"
      },
      "outputs": [
        {
          "output_type": "execute_result",
          "data": {
            "text/plain": [
              "2023"
            ]
          },
          "metadata": {},
          "execution_count": 43
        }
      ],
      "source": [
        "año_actual"
      ]
    },
    {
      "cell_type": "code",
      "execution_count": null,
      "metadata": {
        "colab": {
          "base_uri": "https://localhost:8080/"
        },
        "id": "-mcMuW9nltlG",
        "outputId": "fee415b6-be21-4d09-9af4-fa52d439f761"
      },
      "outputs": [
        {
          "output_type": "execute_result",
          "data": {
            "text/plain": [
              "2003"
            ]
          },
          "metadata": {},
          "execution_count": 44
        }
      ],
      "source": [
        "año_fabricacion"
      ]
    },
    {
      "cell_type": "code",
      "execution_count": null,
      "metadata": {
        "colab": {
          "base_uri": "https://localhost:8080/"
        },
        "id": "WFFavLIvltlL",
        "outputId": "adf77378-2b3e-478e-ec50-fb91f9dded85"
      },
      "outputs": [
        {
          "output_type": "execute_result",
          "data": {
            "text/plain": [
              "44410.0"
            ]
          },
          "metadata": {},
          "execution_count": 45
        }
      ],
      "source": [
        "km_total"
      ]
    },
    {
      "cell_type": "markdown",
      "source": [
        "#Resumen de lo que hemos visto\n"
      ],
      "metadata": {
        "id": "iOvciE_YHTi3"
      }
    },
    {
      "cell_type": "code",
      "source": [
        "A = 1\n",
        "B = 2\n",
        "C = 3\n",
        "#Es equivalente a:\n",
        "A, B, C = 1, 2, 3"
      ],
      "metadata": {
        "id": "L3ascDouHSdw"
      },
      "execution_count": null,
      "outputs": []
    },
    {
      "cell_type": "code",
      "source": [
        "#tener en cuanta que no hemos declarado las variables suma y valor es a modo de ejemplo\n",
        "suma = suma + valor\n",
        "#Es equivalente a:\n",
        "suma += valor"
      ],
      "metadata": {
        "id": "PosEs4KNH2_N"
      },
      "execution_count": null,
      "outputs": []
    },
    {
      "cell_type": "markdown",
      "metadata": {
        "id": "uoRXMeRDltlQ"
      },
      "source": [
        "# 2.3 Tipos de datos"
      ]
    },
    {
      "cell_type": "markdown",
      "metadata": {
        "id": "sW_G6EjWltlQ"
      },
      "source": [
        "Los tipos de datos especifican como números y caracteres estarán guardados y manipulados dentro de un programa. Los tipos de datos básicos en Python son:\n",
        "\n",
        "1. **Números**\n",
        "    1. ***int*** - Enteros\n",
        "    - ***float*** - Decimales\n",
        "- **Booleanos** - Contiene valores True o False. Esencial cuando comenzamos a trabajar con declaraciones condicionales\n",
        "- ***Strings*** - Secuencia de uno o más caracteres que puede incluir letras, números y otros tipos de caracteres. Representa un texto.\n",
        "- **None** - Representa la ausencia de valor"
      ]
    },
    {
      "cell_type": "markdown",
      "metadata": {
        "id": "-HRRxQOtltlQ"
      },
      "source": [
        "### Números"
      ]
    },
    {
      "cell_type": "code",
      "execution_count": null,
      "metadata": {
        "id": "5PKIcIuUltlR"
      },
      "outputs": [],
      "source": [
        "año_actual = 2023"
      ]
    },
    {
      "cell_type": "code",
      "execution_count": null,
      "metadata": {
        "colab": {
          "base_uri": "https://localhost:8080/"
        },
        "id": "G32Yd1g0ltlT",
        "outputId": "5daeb6dc-5d55-44e0-b812-42f0a697aeea"
      },
      "outputs": [
        {
          "output_type": "execute_result",
          "data": {
            "text/plain": [
              "int"
            ]
          },
          "metadata": {},
          "execution_count": 53
        }
      ],
      "source": [
        "type(año_actual)"
      ]
    },
    {
      "cell_type": "code",
      "execution_count": null,
      "metadata": {
        "id": "b9_v__dEltlV"
      },
      "outputs": [],
      "source": [
        "km_total = 44410.0"
      ]
    },
    {
      "cell_type": "code",
      "execution_count": null,
      "metadata": {
        "colab": {
          "base_uri": "https://localhost:8080/"
        },
        "id": "A0nySb3LltlZ",
        "outputId": "fd56be5f-c077-4896-b27f-e7398db3a12e"
      },
      "outputs": [
        {
          "output_type": "execute_result",
          "data": {
            "text/plain": [
              "float"
            ]
          },
          "metadata": {},
          "execution_count": 54
        }
      ],
      "source": [
        "type(km_total)"
      ]
    },
    {
      "cell_type": "markdown",
      "metadata": {
        "id": "7X9iheAnltld"
      },
      "source": [
        "### Booleanos"
      ]
    },
    {
      "cell_type": "code",
      "execution_count": null,
      "metadata": {
        "id": "liUYdchPltle"
      },
      "outputs": [],
      "source": [
        "zero_km = True"
      ]
    },
    {
      "cell_type": "code",
      "execution_count": null,
      "metadata": {
        "colab": {
          "base_uri": "https://localhost:8080/"
        },
        "id": "oZIQAghaltlh",
        "outputId": "9fdcd64c-fb0e-409a-8381-e7706906d816"
      },
      "outputs": [
        {
          "output_type": "execute_result",
          "data": {
            "text/plain": [
              "bool"
            ]
          },
          "metadata": {},
          "execution_count": 56
        }
      ],
      "source": [
        "type(zero_km)"
      ]
    },
    {
      "cell_type": "code",
      "execution_count": null,
      "metadata": {
        "id": "XCAYApe3ltlj"
      },
      "outputs": [],
      "source": [
        "zero_km = False"
      ]
    },
    {
      "cell_type": "code",
      "execution_count": null,
      "metadata": {
        "colab": {
          "base_uri": "https://localhost:8080/"
        },
        "id": "mJ0nGEV7ltll",
        "outputId": "352fc0df-e3c9-4851-a6bb-6b3e4b694ea8"
      },
      "outputs": [
        {
          "output_type": "execute_result",
          "data": {
            "text/plain": [
              "bool"
            ]
          },
          "metadata": {},
          "execution_count": 58
        }
      ],
      "source": [
        "type(zero_km)"
      ]
    },
    {
      "cell_type": "markdown",
      "metadata": {
        "id": "Ipjq4eiSltlp"
      },
      "source": [
        "### Strings"
      ]
    },
    {
      "cell_type": "code",
      "execution_count": null,
      "metadata": {
        "colab": {
          "base_uri": "https://localhost:8080/",
          "height": 35
        },
        "id": "OeW_GQzOltlr",
        "outputId": "72d0e64f-d845-4d33-df35-60586407f961"
      },
      "outputs": [
        {
          "output_type": "execute_result",
          "data": {
            "text/plain": [
              "'Marcos Lana'"
            ],
            "application/vnd.google.colaboratory.intrinsic+json": {
              "type": "string"
            }
          },
          "metadata": {},
          "execution_count": 59
        }
      ],
      "source": [
        "nombre = 'Marcos Lana'\n",
        "nombre"
      ]
    },
    {
      "cell_type": "code",
      "execution_count": null,
      "metadata": {
        "colab": {
          "base_uri": "https://localhost:8080/",
          "height": 35
        },
        "id": "xF1Bi-Rkltlu",
        "outputId": "5800839f-313a-4962-c375-d7c92dcc25e1"
      },
      "outputs": [
        {
          "output_type": "execute_result",
          "data": {
            "text/plain": [
              "'Marcos Lana'"
            ],
            "application/vnd.google.colaboratory.intrinsic+json": {
              "type": "string"
            }
          },
          "metadata": {},
          "execution_count": 60
        }
      ],
      "source": [
        "#Otra forma de realizarlo\n",
        "nombre = \"Marcos Lana\"\n",
        "nombre"
      ]
    },
    {
      "cell_type": "code",
      "execution_count": null,
      "metadata": {
        "colab": {
          "base_uri": "https://localhost:8080/",
          "height": 35
        },
        "id": "QlobSFUtltlw",
        "outputId": "4aa72c35-81fd-45f3-e22b-aff6f54a51d1"
      },
      "outputs": [
        {
          "output_type": "execute_result",
          "data": {
            "text/plain": [
              "'Marcos \"Lana\"'"
            ],
            "application/vnd.google.colaboratory.intrinsic+json": {
              "type": "string"
            }
          },
          "metadata": {},
          "execution_count": 61
        }
      ],
      "source": [
        "#Cuando convinamos \"\" con '', lo que hace es tomarme las \"\" como un caracter\n",
        "nombre = 'Marcos \"Lana\"'\n",
        "nombre"
      ]
    },
    {
      "cell_type": "code",
      "execution_count": null,
      "metadata": {
        "colab": {
          "base_uri": "https://localhost:8080/",
          "height": 35
        },
        "id": "8LBWzzfbltly",
        "outputId": "532636d4-e2a9-4861-e5a7-4b80a7d6bdec"
      },
      "outputs": [
        {
          "output_type": "execute_result",
          "data": {
            "text/plain": [
              "\"Marcos 'Lana'\""
            ],
            "application/vnd.google.colaboratory.intrinsic+json": {
              "type": "string"
            }
          },
          "metadata": {},
          "execution_count": 62
        }
      ],
      "source": [
        "#Cuando convinamos '' con \"\", lo que hace es tomarme las '' como un caracter\n",
        "nombre = \"Marcos 'Lana'\"\n",
        "nombre"
      ]
    },
    {
      "cell_type": "code",
      "execution_count": null,
      "metadata": {
        "colab": {
          "base_uri": "https://localhost:8080/",
          "height": 35
        },
        "id": "ycEhoxtUltl0",
        "outputId": "832f7903-b7ba-4b36-9f78-a798eaeea71d"
      },
      "outputs": [
        {
          "output_type": "execute_result",
          "data": {
            "text/plain": [
              "'\\nNombre\\nEdad\\nNota\\n'"
            ],
            "application/vnd.google.colaboratory.intrinsic+json": {
              "type": "string"
            }
          },
          "metadata": {},
          "execution_count": 63
        }
      ],
      "source": [
        "#Creamos un texto con varias lineas, nos da como resultado \\n que quiere decir\n",
        "#que tenemos salto de linea\n",
        "vehiculo = '''\n",
        "Nombre\n",
        "Edad\n",
        "Nota\n",
        "'''\n",
        "vehiculo"
      ]
    },
    {
      "cell_type": "code",
      "execution_count": null,
      "metadata": {
        "colab": {
          "base_uri": "https://localhost:8080/"
        },
        "id": "bjZQzpuUltl2",
        "outputId": "d1bec90e-e723-4c9e-acbe-5bd8ea217aff"
      },
      "outputs": [
        {
          "output_type": "execute_result",
          "data": {
            "text/plain": [
              "str"
            ]
          },
          "metadata": {},
          "execution_count": 64
        }
      ],
      "source": [
        "type(vehiculo)"
      ]
    },
    {
      "cell_type": "markdown",
      "metadata": {
        "id": "w6bJU-R9ltl5"
      },
      "source": [
        "### None"
      ]
    },
    {
      "cell_type": "code",
      "execution_count": null,
      "metadata": {
        "id": "RgeVhXGxltl5"
      },
      "outputs": [],
      "source": [
        "#Si bien creamos la variables, pero al ser una variable = None, obtenemos un valor\n",
        "#nulo, porque representa la ausencia de valor\n",
        "kilometraje = None\n",
        "kilometraje"
      ]
    },
    {
      "cell_type": "code",
      "execution_count": null,
      "metadata": {
        "colab": {
          "base_uri": "https://localhost:8080/"
        },
        "id": "MJI6PKS6ltl8",
        "outputId": "4449dd9b-66e5-43bb-f88d-1990d644890f"
      },
      "outputs": [
        {
          "output_type": "execute_result",
          "data": {
            "text/plain": [
              "NoneType"
            ]
          },
          "metadata": {},
          "execution_count": 67
        }
      ],
      "source": [
        "type (kilometraje)"
      ]
    },
    {
      "cell_type": "markdown",
      "metadata": {
        "id": "_ilupwV-ltl-"
      },
      "source": [
        "# 2.4 Conversión de tipos"
      ]
    },
    {
      "cell_type": "code",
      "execution_count": null,
      "metadata": {
        "id": "D5hq5Qbvltl-"
      },
      "outputs": [],
      "source": [
        "a = 10\n",
        "b = 20\n",
        "c = 'Python es'\n",
        "d = 'genial'"
      ]
    },
    {
      "cell_type": "code",
      "execution_count": null,
      "metadata": {
        "colab": {
          "base_uri": "https://localhost:8080/"
        },
        "id": "aJ0vi8_Nltl_",
        "outputId": "5c01ef71-bf7a-4ffa-d4d8-db5e12bf7d19"
      },
      "outputs": [
        {
          "output_type": "execute_result",
          "data": {
            "text/plain": [
              "int"
            ]
          },
          "metadata": {},
          "execution_count": 70
        }
      ],
      "source": [
        "type(a)"
      ]
    },
    {
      "cell_type": "code",
      "execution_count": null,
      "metadata": {
        "colab": {
          "base_uri": "https://localhost:8080/"
        },
        "id": "29FVH7p7ltmB",
        "outputId": "e4a72f3b-c6d3-4ce9-bed7-cfc15c76efaf"
      },
      "outputs": [
        {
          "output_type": "execute_result",
          "data": {
            "text/plain": [
              "int"
            ]
          },
          "metadata": {},
          "execution_count": 71
        }
      ],
      "source": [
        "type(b)"
      ]
    },
    {
      "cell_type": "code",
      "execution_count": null,
      "metadata": {
        "colab": {
          "base_uri": "https://localhost:8080/"
        },
        "id": "NGseTO2SltmC",
        "outputId": "274f4d5c-ca51-4c03-e16e-66cb68d0d050"
      },
      "outputs": [
        {
          "output_type": "execute_result",
          "data": {
            "text/plain": [
              "str"
            ]
          },
          "metadata": {},
          "execution_count": 72
        }
      ],
      "source": [
        "type(c)"
      ]
    },
    {
      "cell_type": "code",
      "execution_count": null,
      "metadata": {
        "colab": {
          "base_uri": "https://localhost:8080/"
        },
        "id": "yaSBhwNWltmE",
        "outputId": "4f18b0aa-90af-41d0-826c-48857fd8d43e"
      },
      "outputs": [
        {
          "output_type": "execute_result",
          "data": {
            "text/plain": [
              "str"
            ]
          },
          "metadata": {},
          "execution_count": 73
        }
      ],
      "source": [
        "type(d)"
      ]
    },
    {
      "cell_type": "code",
      "execution_count": null,
      "metadata": {
        "colab": {
          "base_uri": "https://localhost:8080/"
        },
        "id": "5zMXVwLHltmF",
        "outputId": "83985b43-61bb-4653-f59e-9fa272c7121c"
      },
      "outputs": [
        {
          "output_type": "execute_result",
          "data": {
            "text/plain": [
              "30"
            ]
          },
          "metadata": {},
          "execution_count": 74
        }
      ],
      "source": [
        "# realizamos la suma de dos variables int\n",
        "a + b"
      ]
    },
    {
      "cell_type": "code",
      "execution_count": null,
      "metadata": {
        "colab": {
          "base_uri": "https://localhost:8080/",
          "height": 35
        },
        "id": "JJrqKRZFltmJ",
        "outputId": "f5cfde4f-ff1f-4275-bc99-155fc38c9505"
      },
      "outputs": [
        {
          "output_type": "execute_result",
          "data": {
            "text/plain": [
              "'Python esgenial'"
            ],
            "application/vnd.google.colaboratory.intrinsic+json": {
              "type": "string"
            }
          },
          "metadata": {},
          "execution_count": 75
        }
      ],
      "source": [
        "# realizamos la suma de dos variables str (a esta suma se la conoce como concatenar)\n",
        "c + d"
      ]
    },
    {
      "cell_type": "code",
      "execution_count": null,
      "metadata": {
        "id": "hWEIttpgltmM"
      },
      "outputs": [],
      "source": [
        "# realizamos la suma de dos variables de type diferentes (a esta suma se la conoce como concatenar)\n",
        "# c + a (lo que tenemos que hacer es convertir una de las variables)"
      ]
    },
    {
      "cell_type": "markdown",
      "metadata": {
        "id": "dByigpENltmO"
      },
      "source": [
        "### Conversiones de tipo\n",
        "\n",
        "Funciones int(), float(), str()"
      ]
    },
    {
      "cell_type": "code",
      "execution_count": null,
      "metadata": {
        "colab": {
          "base_uri": "https://localhost:8080/",
          "height": 35
        },
        "id": "MtecvWlsltmP",
        "outputId": "f7ce064b-4e16-4bcc-b3fe-427f00fc3af5"
      },
      "outputs": [
        {
          "output_type": "execute_result",
          "data": {
            "text/plain": [
              "'10'"
            ],
            "application/vnd.google.colaboratory.intrinsic+json": {
              "type": "string"
            }
          },
          "metadata": {},
          "execution_count": 76
        }
      ],
      "source": [
        "#En el ejercicio anterior 'a' era un 'int', lo vamos a convertir en un 'str'\n",
        "str(a)"
      ]
    },
    {
      "cell_type": "code",
      "execution_count": null,
      "metadata": {
        "colab": {
          "base_uri": "https://localhost:8080/"
        },
        "id": "S1NuIhDVltmS",
        "outputId": "cfcdce50-f521-477b-84a1-1c426baddcbe"
      },
      "outputs": [
        {
          "output_type": "execute_result",
          "data": {
            "text/plain": [
              "str"
            ]
          },
          "metadata": {},
          "execution_count": 77
        }
      ],
      "source": [
        "type(str(a))"
      ]
    },
    {
      "cell_type": "code",
      "execution_count": null,
      "metadata": {
        "colab": {
          "base_uri": "https://localhost:8080/",
          "height": 35
        },
        "id": "3kCUD1X-ltmT",
        "outputId": "f9ae0848-b5b1-4afc-dbbf-b8ff1a1ef2bb"
      },
      "outputs": [
        {
          "output_type": "execute_result",
          "data": {
            "text/plain": [
              "'Python es10'"
            ],
            "application/vnd.google.colaboratory.intrinsic+json": {
              "type": "string"
            }
          },
          "metadata": {},
          "execution_count": 78
        }
      ],
      "source": [
        "#Ahora realizamos la suma ya que las dos variables son del mismo type\n",
        "c + str(a)"
      ]
    },
    {
      "cell_type": "code",
      "execution_count": null,
      "metadata": {
        "colab": {
          "base_uri": "https://localhost:8080/"
        },
        "id": "TTjSEVRaltmU",
        "outputId": "d432474c-6c04-42be-a3b4-eaebdb656fbf"
      },
      "outputs": [
        {
          "output_type": "execute_result",
          "data": {
            "text/plain": [
              "10.0"
            ]
          },
          "metadata": {},
          "execution_count": 79
        }
      ],
      "source": [
        "#Ahora vamos a convertir 'a' que es un 'int' en un 'float'\n",
        "float(a)"
      ]
    },
    {
      "cell_type": "code",
      "execution_count": null,
      "metadata": {
        "id": "P1P1bXaYltmV"
      },
      "outputs": [],
      "source": [
        "#Ahora vamos a convertin un numero decimal en entero\n",
        "var = 3.141592"
      ]
    },
    {
      "cell_type": "code",
      "execution_count": null,
      "metadata": {
        "colab": {
          "base_uri": "https://localhost:8080/"
        },
        "id": "F_8Cn0aAltmW",
        "outputId": "a49a7360-45e5-4286-d677-aa0538468513"
      },
      "outputs": [
        {
          "output_type": "execute_result",
          "data": {
            "text/plain": [
              "3"
            ]
          },
          "metadata": {},
          "execution_count": 81
        }
      ],
      "source": [
        "#Lo que hace es regresar la parte entera por eso nos arroja el '3'\n",
        "int(var)"
      ]
    },
    {
      "cell_type": "code",
      "execution_count": null,
      "metadata": {
        "id": "_KA6MUgmltmY"
      },
      "outputs": [],
      "source": [
        "#Ejercicio ejemplo:\n",
        "text = 'El kilometraje promedio del vehículo es '\n",
        "Km = 100000\n",
        "Año_actual = 2020\n",
        "Año_fabricacion = 2000"
      ]
    },
    {
      "cell_type": "code",
      "execution_count": null,
      "metadata": {
        "colab": {
          "base_uri": "https://localhost:8080/"
        },
        "id": "7uiCxqUcltma",
        "outputId": "178907c4-e02d-4a41-f19f-1141b221e906"
      },
      "outputs": [
        {
          "output_type": "execute_result",
          "data": {
            "text/plain": [
              "5000"
            ]
          },
          "metadata": {},
          "execution_count": 91
        }
      ],
      "source": [
        "#realizamos la cuenta del promedio convirtiendo un 'float' a 'int'\n",
        "Km_promedio = int(Km /(Año_actual - Año_fabricacion))\n",
        "Km_promedio"
      ]
    },
    {
      "cell_type": "code",
      "source": [
        "#Concatenamos (sumamos) dos variables de diferentes type, realizando la conversión de una de ellas\n",
        "text + str(Km_promedio) + ' km'"
      ],
      "metadata": {
        "colab": {
          "base_uri": "https://localhost:8080/",
          "height": 35
        },
        "id": "PLyHyVA9i_9F",
        "outputId": "950a08e6-22fb-4e3f-f569-48241bf73e1e"
      },
      "execution_count": null,
      "outputs": [
        {
          "output_type": "execute_result",
          "data": {
            "text/plain": [
              "'El kilometraje promedio del vehículo es 5000 km'"
            ],
            "application/vnd.google.colaboratory.intrinsic+json": {
              "type": "string"
            }
          },
          "metadata": {},
          "execution_count": 94
        }
      ]
    },
    {
      "cell_type": "code",
      "source": [
        "#de una forma mas reducida lo podemos hacer así:\n",
        "text + str(int(Km /(Año_actual - Año_fabricacion))) + ' km'\n",
        "\n",
        "# Observamos que se han realizado dos conversiones. En la primera,\n",
        "# el resultado de la operación (float) es convertido en un entero (int) y luego,\n",
        "# el dato de tipo entero es convertido en una string (str)."
      ],
      "metadata": {
        "colab": {
          "base_uri": "https://localhost:8080/",
          "height": 35
        },
        "id": "vY-zjnGrjpFL",
        "outputId": "a923391b-cdbe-4b86-bcb4-87d23439cc8f"
      },
      "execution_count": null,
      "outputs": [
        {
          "output_type": "execute_result",
          "data": {
            "text/plain": [
              "'El kilometraje promedio del vehículo es 5000 km'"
            ],
            "application/vnd.google.colaboratory.intrinsic+json": {
              "type": "string"
            }
          },
          "metadata": {},
          "execution_count": 95
        }
      ]
    },
    {
      "cell_type": "raw",
      "metadata": {
        "id": "DPe-ItCK151T"
      },
      "source": []
    },
    {
      "cell_type": "markdown",
      "metadata": {
        "id": "gGpflJMYltmd"
      },
      "source": [
        "# 2.5 Indentación, comentarios y formatación de *strings*\n",
        "\n",
        "### Indentación\n",
        "\n",
        "En el lenguaje Python los programas son estructurados por medio de indentación. En cualquier lenguaje de programación la práctica de colocar indentación es bastante útil, facilitando la lectura y también el mantenimiento del código. En Python la indentación no es solamente una cuestión de organización y estilo, sino que es un requisito del lenguaje."
      ]
    },
    {
      "cell_type": "code",
      "execution_count": null,
      "metadata": {
        "id": "DqXANnyultmw",
        "colab": {
          "base_uri": "https://localhost:8080/"
        },
        "outputId": "939b57f4-4c8d-439a-ccc6-5fe2fac9e595"
      },
      "outputs": [
        {
          "output_type": "stream",
          "name": "stdout",
          "text": [
            "Verdadero\n"
          ]
        }
      ],
      "source": [
        "año_actual = 2020\n",
        "año_fabricacion = 2020\n",
        "\n",
        "if (año_actual == año_fabricacion):\n",
        "    print('Verdadero')\n",
        "else:\n",
        "    print('Falso')"
      ]
    },
    {
      "cell_type": "markdown",
      "metadata": {
        "id": "dNBfv7x7ltmy"
      },
      "source": [
        "### Comentarios\n",
        "\n",
        "Comentarios son extremamente importantes en un programa. Consiste en un texto que describe lo que el programa o una parte específica del programa está haciendo. Los comentarios son ignorados por el interpretador Python.\n",
        "\n",
        "Podemos tener comentarios de una única linea o de múltiples líneas."
      ]
    },
    {
      "cell_type": "code",
      "execution_count": null,
      "metadata": {
        "id": "GN3DfwiRltmy"
      },
      "outputs": [],
      "source": [
        "# Esto es un comentario\n",
        "año_actual = 2020\n",
        "año_actual"
      ]
    },
    {
      "cell_type": "code",
      "execution_count": null,
      "metadata": {
        "id": "PICBiohFltm2"
      },
      "outputs": [],
      "source": [
        "# Esto\n",
        "# es un\n",
        "# comentario\n",
        "año_actual = 2020\n",
        "año_actual"
      ]
    },
    {
      "cell_type": "code",
      "execution_count": null,
      "metadata": {
        "id": "PTkJ4Vjultm4"
      },
      "outputs": [],
      "source": [
        "'''Esto es un\n",
        "comentario'''\n",
        "año_actual = 2020\n",
        "año_actual"
      ]
    },
    {
      "cell_type": "code",
      "execution_count": null,
      "metadata": {
        "id": "SYEGdALxltm5"
      },
      "outputs": [],
      "source": [
        "# Definiendo variables\n",
        "año_actual = 2020\n",
        "año_fabricacion = 2020\n",
        "\n",
        "'''\n",
        "Estructura condicional que vamos\n",
        "a aprender la próxima clase\n",
        "'''\n",
        "if (año_actual == año_fabricacion):   # Probando si la condición es verdadera\n",
        "    print('Verdadero')\n",
        "else:                               # Probando si la condición es falsa\n",
        "    print('Falso')"
      ]
    },
    {
      "cell_type": "markdown",
      "metadata": {
        "id": "8--bcJ01ltm8"
      },
      "source": [
        "### Formatación de *strings*"
      ]
    },
    {
      "cell_type": "markdown",
      "metadata": {
        "id": "CMovhJZ_ltnG"
      },
      "source": [
        "## *str.format()*\n",
        "\n",
        "https://docs.python.org/3.6/library/stdtypes.html#str.format"
      ]
    },
    {
      "cell_type": "code",
      "execution_count": null,
      "metadata": {
        "id": "N12xmMehltnG",
        "colab": {
          "base_uri": "https://localhost:8080/"
        },
        "outputId": "81f0c7ec-2d24-4019-bb52-f7c742778f3a"
      },
      "outputs": [
        {
          "output_type": "stream",
          "name": "stdout",
          "text": [
            "Hola, Marcos\n"
          ]
        }
      ],
      "source": [
        "#El método .format() permite la designación de nombres para los argumentos\n",
        "#lo vamos a utilizar para poder imprimir variables de diferentes tipos y obtener todo en un str\n",
        "print('Hola, {}'.format('Marcos'))"
      ]
    },
    {
      "cell_type": "code",
      "execution_count": null,
      "metadata": {
        "id": "mRBmU9G1ltnJ",
        "colab": {
          "base_uri": "https://localhost:8080/"
        },
        "outputId": "8e7b5053-bed9-4f0d-9b1c-c8771031dbb5"
      },
      "outputs": [
        {
          "output_type": "stream",
          "name": "stdout",
          "text": [
            "Hola, Marcos! Esta es su visita numero 25\n"
          ]
        }
      ],
      "source": [
        "#con este formato utilizamos {} para que reemplecen la variable dentro de metodo format\n",
        "#tener en cuenta que el orden con el que coloquemos dentro del metodo es lo que nos arroja\n",
        "print('Hola, {}! Esta es su visita numero {}'.format('Marcos',25))"
      ]
    },
    {
      "cell_type": "code",
      "execution_count": null,
      "metadata": {
        "id": "wpqEsTwnltnL",
        "colab": {
          "base_uri": "https://localhost:8080/"
        },
        "outputId": "35a16264-78ec-4631-d6e9-4693d0ce73ed"
      },
      "outputs": [
        {
          "output_type": "stream",
          "name": "stdout",
          "text": [
            "Hola, Marcos! Esta es tu juego numero 25\n"
          ]
        }
      ],
      "source": [
        "#otra forma puede ser con la creación de variables dentro del método,\n",
        "#de esta forma no depende del orden de las variables,dentro de los {} colocamos la variable\n",
        "print('Hola, {nombre}! Esta es tu juego número {juego}'.format(juego=25,nombre='Marcos'))"
      ]
    },
    {
      "cell_type": "markdown",
      "metadata": {
        "id": "V-wPNUN9ltnN"
      },
      "source": [
        "## *f-Strings*\n",
        "\n",
        "https://docs.python.org/3.6/reference/lexical_analysis.html#f-strings"
      ]
    },
    {
      "cell_type": "code",
      "execution_count": null,
      "metadata": {
        "id": "7Fq_WPv0ltnO"
      },
      "outputs": [],
      "source": [
        "#declaramos las variables\n",
        "nombre = 'Marcos'\n",
        "juego = 25"
      ]
    },
    {
      "cell_type": "code",
      "execution_count": null,
      "metadata": {
        "id": "bE3qbd6WltnR",
        "colab": {
          "base_uri": "https://localhost:8080/"
        },
        "outputId": "867a97e0-1f32-4767-f5e3-fe731975503e"
      },
      "outputs": [
        {
          "output_type": "stream",
          "name": "stdout",
          "text": [
            "Hola, Marcos! Esta es tu juego número 25\n"
          ]
        }
      ],
      "source": [
        "#en este caso, colocamos la 'f' al comienzo y lo que hace el metodo es buscar el contenido\n",
        "#de las variables antes declaradas y tomar su valor\n",
        "print(f'Hola, {nombre}! Esta es tu juego número {juego}')"
      ]
    },
    {
      "cell_type": "markdown",
      "metadata": {
        "id": "_IZuNE48ltnS"
      },
      "source": [
        "# <font color=green> 3. TRABAJANDO CON LISTAS\n",
        "---"
      ]
    },
    {
      "cell_type": "markdown",
      "metadata": {
        "id": "zhS89xysltnS"
      },
      "source": [
        "# 3.1 Creando listas\n",
        "\n",
        "Listas son secuencias **mutables** que son utilizadas para guardar colecciones de objetos, generalmente homogéneos. Pueden ser construídas de varias formas:\n",
        "```\n",
        "- Utilizando un par de corchetes: [ ], [ 1 ]\n",
        "- Utilizando un par de corchetes con objetos separados por comas: [ 1, 2, 3 ]\n",
        "```"
      ]
    },
    {
      "cell_type": "code",
      "execution_count": null,
      "metadata": {
        "id": "aE4UWF10ltnS",
        "colab": {
          "base_uri": "https://localhost:8080/"
        },
        "outputId": "8c459aaa-cb64-4b14-f471-451394a84c6c"
      },
      "outputs": [
        {
          "output_type": "execute_result",
          "data": {
            "text/plain": [
              "['Cerraduras eléctricas',\n",
              " 'Piloto automático',\n",
              " 'Asientos de cuero',\n",
              " 'Aire acondicionado',\n",
              " 'Sensor de estacionamiento',\n",
              " 'Sensor de lluvia']"
            ]
          },
          "metadata": {},
          "execution_count": 14
        }
      ],
      "source": [
        "Accesorios = ['Cerraduras eléctricas', 'Piloto automático', 'Asientos de cuero', 'Aire acondicionado', 'Sensor de estacionamiento', 'Sensor de lluvia']\n",
        "Accesorios"
      ]
    },
    {
      "cell_type": "code",
      "source": [
        "#vemos que al momento de solicitar el tipo de dato, nos arroja 'list'\n",
        "type(Accesorios)"
      ],
      "metadata": {
        "colab": {
          "base_uri": "https://localhost:8080/"
        },
        "id": "u7n7_4PoTgOq",
        "outputId": "8a0ffaf2-4dd3-4192-d70e-f32cfb4674c9"
      },
      "execution_count": null,
      "outputs": [
        {
          "output_type": "execute_result",
          "data": {
            "text/plain": [
              "list"
            ]
          },
          "metadata": {},
          "execution_count": 15
        }
      ]
    },
    {
      "cell_type": "markdown",
      "metadata": {
        "id": "Mmlkh5TVltnT"
      },
      "source": [
        "### Lista con tipos de datos variados"
      ]
    },
    {
      "cell_type": "code",
      "execution_count": null,
      "metadata": {
        "id": "Mfpu7NoJltnT"
      },
      "outputs": [],
      "source": [
        "vehiculo_1 = ['Jetta Variant', 'Motor 4.0 Turbo', 2003, 44410.0, False, ['Cerraduras eléctricas', 'Piloto automático'], 88078.64]\n",
        "vehiculo_2 = ['Passat', 'Motor Diesel', 1991, 5712.0, False, ['Central multimedia', 'Frenos ABS'], 106161.94]"
      ]
    },
    {
      "cell_type": "code",
      "execution_count": null,
      "metadata": {
        "id": "EJSJFJjKltnV",
        "colab": {
          "base_uri": "https://localhost:8080/"
        },
        "outputId": "58627f7e-5480-4e5f-f5ae-aa6fb73d3f14"
      },
      "outputs": [
        {
          "output_type": "execute_result",
          "data": {
            "text/plain": [
              "['Jetta Variant',\n",
              " 'Motor 4.0 Turbo',\n",
              " 2003,\n",
              " 44410.0,\n",
              " False,\n",
              " ['Cerraduras eléctricas', 'Piloto automático'],\n",
              " 88078.64]"
            ]
          },
          "metadata": {},
          "execution_count": 20
        }
      ],
      "source": [
        "#se observa que los elementos de las listas pueden ser variados, incluso tener listas dentro de listas\n",
        "vehiculo_1"
      ]
    },
    {
      "cell_type": "code",
      "execution_count": null,
      "metadata": {
        "id": "7MMG7L8VltnX",
        "colab": {
          "base_uri": "https://localhost:8080/"
        },
        "outputId": "0ef5ac63-9eb2-40f1-d893-3ba9af77e483"
      },
      "outputs": [
        {
          "output_type": "execute_result",
          "data": {
            "text/plain": [
              "['Passat',\n",
              " 'Motor Diesel',\n",
              " 1991,\n",
              " 5712.0,\n",
              " False,\n",
              " ['Central multimedia', 'Frenos ABS'],\n",
              " 106161.94]"
            ]
          },
          "metadata": {},
          "execution_count": 21
        }
      ],
      "source": [
        "vehiculo_2"
      ]
    },
    {
      "cell_type": "code",
      "execution_count": null,
      "metadata": {
        "id": "7E8erLgZltnZ",
        "colab": {
          "base_uri": "https://localhost:8080/"
        },
        "outputId": "720c38ef-2bc9-43d7-c6ed-30f85ae710c4"
      },
      "outputs": [
        {
          "output_type": "execute_result",
          "data": {
            "text/plain": [
              "[['Jetta Variant',\n",
              "  'Motor 4.0 Turbo',\n",
              "  2003,\n",
              "  44410.0,\n",
              "  False,\n",
              "  ['Cerraduras eléctricas', 'Piloto automático'],\n",
              "  88078.64],\n",
              " ['Passat',\n",
              "  'Motor Diesel',\n",
              "  1991,\n",
              "  5712.0,\n",
              "  False,\n",
              "  ['Central multimedia', 'Frenos ABS'],\n",
              "  106161.94]]"
            ]
          },
          "metadata": {},
          "execution_count": 23
        }
      ],
      "source": [
        "#podemos tener una lista donde sus elementos sean más listas\n",
        "vehiculos = [vehiculo_1,vehiculo_2]\n",
        "vehiculos"
      ]
    },
    {
      "cell_type": "markdown",
      "metadata": {
        "id": "5yMXJ0xdltna"
      },
      "source": [
        "# 3.2 Operaciones con listas\n",
        "\n",
        "https://docs.python.org/3.6/library/stdtypes.html#common-sequence-operations"
      ]
    },
    {
      "cell_type": "markdown",
      "metadata": {
        "id": "YSorJOGlltna"
      },
      "source": [
        "## *x in A*\n",
        "\n",
        "Devuelve **True** si un elemento de la lista *A es igual a x*."
      ]
    },
    {
      "cell_type": "code",
      "execution_count": null,
      "metadata": {
        "id": "GgSP_nlHltnb",
        "colab": {
          "base_uri": "https://localhost:8080/"
        },
        "outputId": "b59e40ac-fd15-47fc-8d23-e0b76229e123"
      },
      "outputs": [
        {
          "output_type": "execute_result",
          "data": {
            "text/plain": [
              "['Cerraduras eléctricas',\n",
              " 'Piloto automático',\n",
              " 'Asientos de cuero',\n",
              " 'Aire acondicionado',\n",
              " 'Sensor de estacionamiento',\n",
              " 'Sensor de lluvia']"
            ]
          },
          "metadata": {},
          "execution_count": 24
        }
      ],
      "source": [
        "Accesorios"
      ]
    },
    {
      "cell_type": "code",
      "execution_count": null,
      "metadata": {
        "id": "_JyyHPmWltnd",
        "colab": {
          "base_uri": "https://localhost:8080/"
        },
        "outputId": "683bb0b7-748a-40bf-f9c8-75301c6c0324"
      },
      "outputs": [
        {
          "output_type": "execute_result",
          "data": {
            "text/plain": [
              "True"
            ]
          },
          "metadata": {},
          "execution_count": 25
        }
      ],
      "source": [
        "#con el operador 'in' lo que hacemos es preguntar si 'x' elemento pertenece o no a la lista\n",
        "'Cerraduras eléctricas' in Accesorios"
      ]
    },
    {
      "cell_type": "code",
      "execution_count": null,
      "metadata": {
        "id": "tebg9gAyltne",
        "colab": {
          "base_uri": "https://localhost:8080/"
        },
        "outputId": "af49f9dc-7758-4ffe-866c-9fcc8bae4c63"
      },
      "outputs": [
        {
          "output_type": "execute_result",
          "data": {
            "text/plain": [
              "False"
            ]
          },
          "metadata": {},
          "execution_count": 26
        }
      ],
      "source": [
        "'4 X 4' in Accesorios"
      ]
    },
    {
      "cell_type": "code",
      "execution_count": null,
      "metadata": {
        "id": "W_1PKJYsltnf",
        "colab": {
          "base_uri": "https://localhost:8080/"
        },
        "outputId": "9e4135db-b8d3-42b8-c56b-0fffaca2965b"
      },
      "outputs": [
        {
          "output_type": "execute_result",
          "data": {
            "text/plain": [
              "False"
            ]
          },
          "metadata": {},
          "execution_count": 27
        }
      ],
      "source": [
        "#otra de la forma de preguntar es con una negación\n",
        "'Cerraduras eléctricas' not in Accesorios"
      ]
    },
    {
      "cell_type": "code",
      "execution_count": null,
      "metadata": {
        "id": "1WNsBXFyltng",
        "colab": {
          "base_uri": "https://localhost:8080/"
        },
        "outputId": "22e84fbf-2538-412d-cc4b-b23b79e5bb53"
      },
      "outputs": [
        {
          "output_type": "execute_result",
          "data": {
            "text/plain": [
              "True"
            ]
          },
          "metadata": {},
          "execution_count": 28
        }
      ],
      "source": [
        "'4 X 4' not in Accesorios"
      ]
    },
    {
      "cell_type": "code",
      "source": [
        "#otro ejemplo:\n",
        "Auto = [\n",
        "'Jetta Variant',\n",
        " 'Motor 4.0 Turbo',\n",
        " 2003,\n",
        " 44410.0,\n",
        " False,\n",
        " ['Llantas de aleación', 'Cerraduras eléctricas', 'Piloto automático'],\n",
        " 88078.64\n",
        "]"
      ],
      "metadata": {
        "id": "_Roit8qdYx-o"
      },
      "execution_count": null,
      "outputs": []
    },
    {
      "cell_type": "code",
      "source": [
        "#en este caso vamos a tener False como resultado, ya que preguntamos si 2003\n",
        "#pertenece a la lista Auto, pero como 'str' y es un 'int'\n",
        "'2003' in Auto"
      ],
      "metadata": {
        "colab": {
          "base_uri": "https://localhost:8080/"
        },
        "id": "-rTvP6nuZNjY",
        "outputId": "f8136c67-5c7f-4a07-ccec-cae6d03e4165"
      },
      "execution_count": null,
      "outputs": [
        {
          "output_type": "execute_result",
          "data": {
            "text/plain": [
              "False"
            ]
          },
          "metadata": {},
          "execution_count": 40
        }
      ]
    },
    {
      "cell_type": "code",
      "source": [
        "#en este caso tambien es False, ya que es un elemento que pertenece a un elemento lista dentro de la lista Auto\n",
        "'Llantas de aleación' in Auto"
      ],
      "metadata": {
        "colab": {
          "base_uri": "https://localhost:8080/"
        },
        "id": "ckkxqaAxZq-A",
        "outputId": "d2e6771a-54b6-446c-c787-fcbe2d48bad9"
      },
      "execution_count": null,
      "outputs": [
        {
          "output_type": "execute_result",
          "data": {
            "text/plain": [
              "False"
            ]
          },
          "metadata": {},
          "execution_count": 38
        }
      ]
    },
    {
      "cell_type": "code",
      "source": [
        "#en este caso obtenemos True por que es un elemento de la lista Auto\n",
        "False in Auto"
      ],
      "metadata": {
        "colab": {
          "base_uri": "https://localhost:8080/"
        },
        "id": "deCSsJyJaK4g",
        "outputId": "e25b7f5b-d52e-4df6-a2d4-7e9bb8ecaef4"
      },
      "execution_count": null,
      "outputs": [
        {
          "output_type": "execute_result",
          "data": {
            "text/plain": [
              "True"
            ]
          },
          "metadata": {},
          "execution_count": 39
        }
      ]
    },
    {
      "cell_type": "markdown",
      "metadata": {
        "id": "RF6_rf90ltnh"
      },
      "source": [
        "## *A + B*\n",
        "\n",
        "Concatena las listas *A y B*."
      ]
    },
    {
      "cell_type": "code",
      "execution_count": null,
      "metadata": {
        "id": "8lnzbYnRltnh"
      },
      "outputs": [],
      "source": [
        "A = ['Cerraduras eléctricas', 'Piloto automático', 'Asientos de cuero']\n",
        "B = ['Aire acondicionado', 'Sensor de estacionamiento', 'Sensor de lluvia']"
      ]
    },
    {
      "cell_type": "code",
      "execution_count": null,
      "metadata": {
        "id": "SzbiHHF4ltni",
        "colab": {
          "base_uri": "https://localhost:8080/"
        },
        "outputId": "1f48e338-e4e8-4c4a-b00b-39f589c3d55d"
      },
      "outputs": [
        {
          "output_type": "execute_result",
          "data": {
            "text/plain": [
              "['Cerraduras eléctricas',\n",
              " 'Piloto automático',\n",
              " 'Asientos de cuero',\n",
              " 'Aire acondicionado',\n",
              " 'Sensor de estacionamiento',\n",
              " 'Sensor de lluvia']"
            ]
          },
          "metadata": {},
          "execution_count": 31
        }
      ],
      "source": [
        "#al utilizar el operador + con listas, lo que realiza es concatenar (sumar) los elementos de ambas\n",
        "A + B"
      ]
    },
    {
      "cell_type": "markdown",
      "metadata": {
        "id": "iTv5t7zAltnk"
      },
      "source": [
        "## *len(A)*\n",
        "\n",
        "Tamaño de la lista A."
      ]
    },
    {
      "cell_type": "code",
      "execution_count": null,
      "metadata": {
        "id": "dtbuCDSOltnk",
        "colab": {
          "base_uri": "https://localhost:8080/"
        },
        "outputId": "f11698b6-4419-4403-f31a-b8582fe0bc4a"
      },
      "outputs": [
        {
          "output_type": "execute_result",
          "data": {
            "text/plain": [
              "6"
            ]
          },
          "metadata": {},
          "execution_count": 32
        }
      ],
      "source": [
        "#El tamaño va a quedar determinado por la cantidad de elementos de la lista\n",
        "len(Accesorios)"
      ]
    },
    {
      "cell_type": "markdown",
      "metadata": {
        "id": "k7wWCbAmltnl"
      },
      "source": [
        "# 3.3 Selecciones en listas"
      ]
    },
    {
      "cell_type": "markdown",
      "metadata": {
        "id": "uF3NmgUaltnl"
      },
      "source": [
        "## *A[ n ]*\n",
        "\n",
        "Devuelve el n-ésimo objeto de la lista *A*.\n",
        "\n",
        "<font color=red>**Observación:**</font> Listas tienen indexación con inicio en cero."
      ]
    },
    {
      "cell_type": "code",
      "execution_count": null,
      "metadata": {
        "id": "f5ct7w1Wltnm",
        "colab": {
          "base_uri": "https://localhost:8080/"
        },
        "outputId": "34765ae0-2c88-4872-c691-0fb1d163cb95"
      },
      "outputs": [
        {
          "output_type": "execute_result",
          "data": {
            "text/plain": [
              "['Cerraduras eléctricas',\n",
              " 'Piloto automático',\n",
              " 'Asientos de cuero',\n",
              " 'Aire acondicionado',\n",
              " 'Sensor de estacionamiento',\n",
              " 'Sensor de lluvia']"
            ]
          },
          "metadata": {},
          "execution_count": 41
        }
      ],
      "source": [
        "#Utilizamos la lista Accesorios\n",
        "Accesorios"
      ]
    },
    {
      "cell_type": "code",
      "execution_count": null,
      "metadata": {
        "id": "-BLG7yifltnn",
        "colab": {
          "base_uri": "https://localhost:8080/",
          "height": 35
        },
        "outputId": "f53f15b6-f95f-43a8-af42-9dc764e8da37"
      },
      "outputs": [
        {
          "output_type": "execute_result",
          "data": {
            "text/plain": [
              "'Cerraduras eléctricas'"
            ],
            "application/vnd.google.colaboratory.intrinsic+json": {
              "type": "string"
            }
          },
          "metadata": {},
          "execution_count": 42
        }
      ],
      "source": [
        "#Con este método lo que vamos a realizar es extraer uno o varios elementos de la lista\n",
        "#en este caso vamos a extraer el primer elemento de la lista\n",
        "#tener en cuanta que la posición de los valores comienza en 0\n",
        "Accesorios[0]"
      ]
    },
    {
      "cell_type": "code",
      "execution_count": null,
      "metadata": {
        "id": "SoL6PIjJltno",
        "colab": {
          "base_uri": "https://localhost:8080/",
          "height": 35
        },
        "outputId": "cab8fd0f-8506-4195-843a-137e343c25a4"
      },
      "outputs": [
        {
          "output_type": "execute_result",
          "data": {
            "text/plain": [
              "'Piloto automático'"
            ],
            "application/vnd.google.colaboratory.intrinsic+json": {
              "type": "string"
            }
          },
          "metadata": {},
          "execution_count": 43
        }
      ],
      "source": [
        "#Estraeremos el valor de la segunda posicion\n",
        "Accesorios[1]"
      ]
    },
    {
      "cell_type": "code",
      "execution_count": null,
      "metadata": {
        "id": "pGMDc5FLltnq",
        "colab": {
          "base_uri": "https://localhost:8080/",
          "height": 35
        },
        "outputId": "95e04c77-25b9-445a-c631-efe8e73e9a1d"
      },
      "outputs": [
        {
          "output_type": "execute_result",
          "data": {
            "text/plain": [
              "'Sensor de lluvia'"
            ],
            "application/vnd.google.colaboratory.intrinsic+json": {
              "type": "string"
            }
          },
          "metadata": {},
          "execution_count": 44
        }
      ],
      "source": [
        "#En caso de querer extraer el ultimo elemento, debido a que pueden ser muchos elementos\n",
        "#vamos a utilizar -1 para que extraiga el ultimo elemento de la lista\n",
        "Accesorios[-1]"
      ]
    },
    {
      "cell_type": "code",
      "execution_count": null,
      "metadata": {
        "id": "m3AaFe73ltnr",
        "colab": {
          "base_uri": "https://localhost:8080/"
        },
        "outputId": "37979c84-c8d1-4592-a4f2-4ecc3a6b3f12"
      },
      "outputs": [
        {
          "output_type": "execute_result",
          "data": {
            "text/plain": [
              "[['Jetta Variant',\n",
              "  'Motor 4.0 Turbo',\n",
              "  2003,\n",
              "  44410.0,\n",
              "  False,\n",
              "  ['Cerraduras eléctricas', 'Piloto automático'],\n",
              "  88078.64],\n",
              " ['Passat',\n",
              "  'Motor Diesel',\n",
              "  1991,\n",
              "  5712.0,\n",
              "  False,\n",
              "  ['Central multimedia', 'Frenos ABS'],\n",
              "  106161.94]]"
            ]
          },
          "metadata": {},
          "execution_count": 45
        }
      ],
      "source": [
        "#recordamos que vehiculos es una lista que sus elementos son listas\n",
        "vehiculos"
      ]
    },
    {
      "cell_type": "code",
      "execution_count": null,
      "metadata": {
        "id": "AeDJviqoltns",
        "colab": {
          "base_uri": "https://localhost:8080/"
        },
        "outputId": "bdc22aae-7479-4b09-e7c3-0b2173e7e2eb"
      },
      "outputs": [
        {
          "output_type": "execute_result",
          "data": {
            "text/plain": [
              "['Jetta Variant',\n",
              " 'Motor 4.0 Turbo',\n",
              " 2003,\n",
              " 44410.0,\n",
              " False,\n",
              " ['Cerraduras eléctricas', 'Piloto automático'],\n",
              " 88078.64]"
            ]
          },
          "metadata": {},
          "execution_count": 47
        }
      ],
      "source": [
        "#extraemos el primero valor de la lista vehiculo, este primer elemento contiene otra lista\n",
        "vehiculos[0]"
      ]
    },
    {
      "cell_type": "code",
      "execution_count": null,
      "metadata": {
        "id": "KdenG1BZltnt",
        "colab": {
          "base_uri": "https://localhost:8080/",
          "height": 35
        },
        "outputId": "15ff0a98-302a-4a0a-8e74-9e93d39e9b19"
      },
      "outputs": [
        {
          "output_type": "execute_result",
          "data": {
            "text/plain": [
              "'Jetta Variant'"
            ],
            "application/vnd.google.colaboratory.intrinsic+json": {
              "type": "string"
            }
          },
          "metadata": {},
          "execution_count": 48
        }
      ],
      "source": [
        "#para obtener o extraer el 1er elemento del la lista estraida como 1er elemento de la lista vehiculos\n",
        "#siempre hay que respetar el orden\n",
        "vehiculos[0][0]"
      ]
    },
    {
      "cell_type": "code",
      "execution_count": null,
      "metadata": {
        "id": "iOjsfrlFltnu",
        "colab": {
          "base_uri": "https://localhost:8080/"
        },
        "outputId": "b5b529a4-0ddf-49bf-e575-56d9f7b526f3"
      },
      "outputs": [
        {
          "output_type": "execute_result",
          "data": {
            "text/plain": [
              "['Cerraduras eléctricas', 'Piloto automático']"
            ]
          },
          "metadata": {},
          "execution_count": 50
        }
      ],
      "source": [
        "#para obtener o extraer el penultimo elemento del la lista estraida como 1er elemento de la lista vehiculos\n",
        "#en este caso vamos a obtener otra lista, por lo que el penultimo elemento es otra lista\n",
        "vehiculos[0][-2]"
      ]
    },
    {
      "cell_type": "code",
      "execution_count": null,
      "metadata": {
        "id": "6BrON70Zltnu",
        "colab": {
          "base_uri": "https://localhost:8080/",
          "height": 35
        },
        "outputId": "2532db36-0533-41aa-e43a-6345baf33154"
      },
      "outputs": [
        {
          "output_type": "execute_result",
          "data": {
            "text/plain": [
              "'Piloto automático'"
            ],
            "application/vnd.google.colaboratory.intrinsic+json": {
              "type": "string"
            }
          },
          "metadata": {},
          "execution_count": 51
        }
      ],
      "source": [
        "#para extraer un elemento de la lista obtenida en el ultimo ejemplo\n",
        "#recordar seguir el orden\n",
        "vehiculos[0][-2][1]"
      ]
    },
    {
      "cell_type": "markdown",
      "metadata": {
        "id": "9WgwxPIMltnv"
      },
      "source": [
        "## *A[ i : j ]*\n",
        "\n",
        "Recorta la lista A desde el índice i hasta j. En este recorte el elemento con índice i **es incluído** y el elemento con índice j **no es incluído** en el resultado."
      ]
    },
    {
      "cell_type": "code",
      "execution_count": null,
      "metadata": {
        "id": "bJzL2PMiltnv",
        "colab": {
          "base_uri": "https://localhost:8080/"
        },
        "outputId": "4e697233-42a7-4440-d61f-b09cba4d87e6"
      },
      "outputs": [
        {
          "output_type": "execute_result",
          "data": {
            "text/plain": [
              "['Cerraduras eléctricas',\n",
              " 'Piloto automático',\n",
              " 'Asientos de cuero',\n",
              " 'Aire acondicionado',\n",
              " 'Sensor de estacionamiento',\n",
              " 'Sensor de lluvia']"
            ]
          },
          "metadata": {},
          "execution_count": 52
        }
      ],
      "source": [
        "Accesorios"
      ]
    },
    {
      "cell_type": "code",
      "execution_count": null,
      "metadata": {
        "id": "sFAlJ4u_ltnw",
        "colab": {
          "base_uri": "https://localhost:8080/"
        },
        "outputId": "9d2ae018-e8d4-4344-caec-7ab29f427e2a"
      },
      "outputs": [
        {
          "output_type": "execute_result",
          "data": {
            "text/plain": [
              "['Asientos de cuero', 'Aire acondicionado', 'Sensor de estacionamiento']"
            ]
          },
          "metadata": {},
          "execution_count": 53
        }
      ],
      "source": [
        "#Tener en cuanta que vamos a extraer varios elementos de la lista, no olvidar que el último no lo incluye\n",
        "Accesorios[2:5]"
      ]
    },
    {
      "cell_type": "code",
      "execution_count": null,
      "metadata": {
        "id": "dFdTBWa9ltnz",
        "colab": {
          "base_uri": "https://localhost:8080/"
        },
        "outputId": "3b8d727e-c49b-41d0-ca19-952bdd79dd6b"
      },
      "outputs": [
        {
          "output_type": "execute_result",
          "data": {
            "text/plain": [
              "['Asientos de cuero',\n",
              " 'Aire acondicionado',\n",
              " 'Sensor de estacionamiento',\n",
              " 'Sensor de lluvia']"
            ]
          },
          "metadata": {},
          "execution_count": 54
        }
      ],
      "source": [
        "#para poder extraer los elementos desde la posición indicada hasta el final\n",
        "#colocamos los : y luego nada para traer hasta el último dato de la lista\n",
        "Accesorios[2:]"
      ]
    },
    {
      "cell_type": "code",
      "execution_count": null,
      "metadata": {
        "id": "yxxB2-_Dltn0",
        "colab": {
          "base_uri": "https://localhost:8080/"
        },
        "outputId": "72dbb8f7-4729-42e6-d3f5-b14a39279673"
      },
      "outputs": [
        {
          "output_type": "execute_result",
          "data": {
            "text/plain": [
              "['Cerraduras eléctricas',\n",
              " 'Piloto automático',\n",
              " 'Asientos de cuero',\n",
              " 'Aire acondicionado',\n",
              " 'Sensor de estacionamiento']"
            ]
          },
          "metadata": {},
          "execution_count": 55
        }
      ],
      "source": [
        "#de igual modo lo realizamos si queremos desde el primer elemento de la lista hasta el determinado\n",
        "Accesorios[:5]"
      ]
    },
    {
      "cell_type": "code",
      "source": [
        "#vemos otro ejemplo:\n",
        "letras = ['A', 'B', 'C', 'D', 'E', 'F', 'G', 'H']"
      ],
      "metadata": {
        "id": "ACqJurnmi1gK"
      },
      "execution_count": null,
      "outputs": []
    },
    {
      "cell_type": "code",
      "source": [
        "#para obtener ['A', 'B']\n",
        "letras[:2]"
      ],
      "metadata": {
        "colab": {
          "base_uri": "https://localhost:8080/"
        },
        "id": "_foVOCGpi-yA",
        "outputId": "c51d0ec3-3d1f-4f5b-fd6b-a8dbf099bcb4"
      },
      "execution_count": null,
      "outputs": [
        {
          "output_type": "execute_result",
          "data": {
            "text/plain": [
              "['A', 'B']"
            ]
          },
          "metadata": {},
          "execution_count": 58
        }
      ]
    },
    {
      "cell_type": "code",
      "source": [
        "#para obtener ['C', 'D', 'E']\n",
        "letras[2:5]"
      ],
      "metadata": {
        "colab": {
          "base_uri": "https://localhost:8080/"
        },
        "id": "5p_2_28HjKgM",
        "outputId": "3687e786-f465-420f-80c4-6bf918c6ffc2"
      },
      "execution_count": null,
      "outputs": [
        {
          "output_type": "execute_result",
          "data": {
            "text/plain": [
              "['C', 'D', 'E']"
            ]
          },
          "metadata": {},
          "execution_count": 59
        }
      ]
    },
    {
      "cell_type": "code",
      "source": [
        "#para obtener ['F', 'G', 'H']\n",
        "letras[-3:]"
      ],
      "metadata": {
        "colab": {
          "base_uri": "https://localhost:8080/"
        },
        "id": "GBzV4xuijbh_",
        "outputId": "3bf47cd7-d66a-466e-e7e0-8913bf0c9544"
      },
      "execution_count": null,
      "outputs": [
        {
          "output_type": "execute_result",
          "data": {
            "text/plain": [
              "['F', 'G', 'H']"
            ]
          },
          "metadata": {},
          "execution_count": 61
        }
      ]
    },
    {
      "cell_type": "code",
      "source": [
        "#vemos otro ejemplo:\n",
        "carros = [\n",
        "    [\n",
        "        'Jetta Variant',\n",
        "        'Motor 4.0 Turbo',\n",
        "        2003,\n",
        "        False,\n",
        "        ['Llantas de aleación', 'Cerraduras eléctricas', 'Piloto automático']\n",
        "    ],\n",
        "    [\n",
        "        'Passat',\n",
        "        'Motor Diesel',\n",
        "        1991,\n",
        "        True,\n",
        "        ['Central multimedia', 'Techo panorámico', 'Frenos ABS']\n",
        "    ]\n",
        "]\n",
        "#vamos a buscar los elementos: True, 'Techo panorámico' y ['Llantas de aleación', 'Cerraduras eléctricas', 'Piloto automático']"
      ],
      "metadata": {
        "id": "AUqp6a3YkJVU"
      },
      "execution_count": null,
      "outputs": []
    },
    {
      "cell_type": "code",
      "source": [
        "#Extraemos True\n",
        "carros[1][-2]"
      ],
      "metadata": {
        "colab": {
          "base_uri": "https://localhost:8080/"
        },
        "id": "sHqbkUArkfmW",
        "outputId": "38fc422f-f23b-4626-b078-0060033b03d1"
      },
      "execution_count": null,
      "outputs": [
        {
          "output_type": "execute_result",
          "data": {
            "text/plain": [
              "True"
            ]
          },
          "metadata": {},
          "execution_count": 66
        }
      ]
    },
    {
      "cell_type": "code",
      "source": [
        "#Extraemos 'Techo panorámico'\n",
        "carros[1][-1][1]"
      ],
      "metadata": {
        "colab": {
          "base_uri": "https://localhost:8080/",
          "height": 35
        },
        "id": "WZF_QzpflSD5",
        "outputId": "db59e55a-f363-4ee9-b5e9-3cde4fb7ab8a"
      },
      "execution_count": null,
      "outputs": [
        {
          "output_type": "execute_result",
          "data": {
            "text/plain": [
              "'Techo panorámico'"
            ],
            "application/vnd.google.colaboratory.intrinsic+json": {
              "type": "string"
            }
          },
          "metadata": {},
          "execution_count": 67
        }
      ]
    },
    {
      "cell_type": "code",
      "source": [
        "#Extraemos ['Llantas de aleación', 'Cerraduras eléctricas', 'Piloto automático']\n",
        "carros[0][-1]"
      ],
      "metadata": {
        "colab": {
          "base_uri": "https://localhost:8080/"
        },
        "id": "V5GdWsQBlzU_",
        "outputId": "389099da-23ef-49c9-8604-606f10e916f5"
      },
      "execution_count": null,
      "outputs": [
        {
          "output_type": "execute_result",
          "data": {
            "text/plain": [
              "['Llantas de aleación', 'Cerraduras eléctricas', 'Piloto automático']"
            ]
          },
          "metadata": {},
          "execution_count": 68
        }
      ]
    },
    {
      "cell_type": "markdown",
      "metadata": {
        "id": "R-S-LCPGltn0"
      },
      "source": [
        "# 3.4 Métodos en listas\n",
        "\n",
        "https://docs.python.org/3.6/library/stdtypes.html#mutable-sequence-types"
      ]
    },
    {
      "cell_type": "markdown",
      "metadata": {
        "id": "j9s2OyyPltn1"
      },
      "source": [
        "## *A.sort()*\n",
        "\n",
        "Ordena la lista *A*."
      ]
    },
    {
      "cell_type": "code",
      "execution_count": null,
      "metadata": {
        "id": "A2dJGhFsltn1",
        "colab": {
          "base_uri": "https://localhost:8080/"
        },
        "outputId": "8ad0aa11-db94-4b44-f00d-ab4d7e8381f9"
      },
      "outputs": [
        {
          "output_type": "execute_result",
          "data": {
            "text/plain": [
              "['Cerraduras eléctricas',\n",
              " 'Piloto automático',\n",
              " 'Asientos de cuero',\n",
              " 'Aire acondicionado',\n",
              " 'Sensor de estacionamiento',\n",
              " 'Sensor de lluvia']"
            ]
          },
          "metadata": {},
          "execution_count": 69
        }
      ],
      "source": [
        "Accesorios"
      ]
    },
    {
      "cell_type": "code",
      "execution_count": null,
      "metadata": {
        "id": "VDWCHlTcltn2",
        "colab": {
          "base_uri": "https://localhost:8080/"
        },
        "outputId": "cb3d393a-1e0d-4cce-f4d8-63ea171121cb"
      },
      "outputs": [
        {
          "output_type": "execute_result",
          "data": {
            "text/plain": [
              "['Aire acondicionado',\n",
              " 'Asientos de cuero',\n",
              " 'Cerraduras eléctricas',\n",
              " 'Piloto automático',\n",
              " 'Sensor de estacionamiento',\n",
              " 'Sensor de lluvia']"
            ]
          },
          "metadata": {},
          "execution_count": 70
        }
      ],
      "source": [
        "#Ordena los elementos alfabeticamente\n",
        "Accesorios.sort()\n",
        "Accesorios"
      ]
    },
    {
      "cell_type": "markdown",
      "metadata": {
        "id": "N9Spp7-xltn3"
      },
      "source": [
        "## *A.append(x)*\n",
        "\n",
        "Añade el elemento *x al final de la lista A*"
      ]
    },
    {
      "cell_type": "code",
      "execution_count": null,
      "metadata": {
        "id": "l7I_U-sRltn4",
        "colab": {
          "base_uri": "https://localhost:8080/"
        },
        "outputId": "82ba6bc6-8b48-4f63-9998-e7588641e1b4"
      },
      "outputs": [
        {
          "output_type": "execute_result",
          "data": {
            "text/plain": [
              "['Aire acondicionado',\n",
              " 'Asientos de cuero',\n",
              " 'Cerraduras eléctricas',\n",
              " 'Piloto automático',\n",
              " 'Sensor de estacionamiento',\n",
              " 'Sensor de lluvia',\n",
              " '4 X 4']"
            ]
          },
          "metadata": {},
          "execution_count": 71
        }
      ],
      "source": [
        "Accesorios.append('4 X 4')\n",
        "Accesorios"
      ]
    },
    {
      "cell_type": "markdown",
      "metadata": {
        "id": "eiP3oACPltn6"
      },
      "source": [
        "## *A.pop(i)*\n",
        "\n",
        "Elimina y devuelve el elemento de índice i de la lista *A*.\n",
        "\n",
        "<font color=red>**Observación:**</font> Por *defecto* el método *pop()* elimina y devuelve el último elemento de una lista."
      ]
    },
    {
      "cell_type": "code",
      "execution_count": null,
      "metadata": {
        "id": "BoCKa5Hqltn6",
        "colab": {
          "base_uri": "https://localhost:8080/",
          "height": 35
        },
        "outputId": "1d0a2351-70d2-4f1e-9bdd-efc85936fdc0"
      },
      "outputs": [
        {
          "output_type": "execute_result",
          "data": {
            "text/plain": [
              "'4 X 4'"
            ],
            "application/vnd.google.colaboratory.intrinsic+json": {
              "type": "string"
            }
          },
          "metadata": {},
          "execution_count": 72
        }
      ],
      "source": [
        "#al no colocar un elemento determinado, elimina el último agregado\n",
        "Accesorios.pop()"
      ]
    },
    {
      "cell_type": "code",
      "execution_count": null,
      "metadata": {
        "id": "GfGX1jw-ltn9",
        "colab": {
          "base_uri": "https://localhost:8080/"
        },
        "outputId": "3f5ebc11-b9c8-4129-fe87-410f4c094fae"
      },
      "outputs": [
        {
          "output_type": "execute_result",
          "data": {
            "text/plain": [
              "['Aire acondicionado',\n",
              " 'Asientos de cuero',\n",
              " 'Cerraduras eléctricas',\n",
              " 'Piloto automático',\n",
              " 'Sensor de estacionamiento',\n",
              " 'Sensor de lluvia']"
            ]
          },
          "metadata": {},
          "execution_count": 73
        }
      ],
      "source": [
        "#vemos como lo ha sacado\n",
        "Accesorios"
      ]
    },
    {
      "cell_type": "code",
      "execution_count": null,
      "metadata": {
        "id": "tppe9tqbltn-",
        "colab": {
          "base_uri": "https://localhost:8080/",
          "height": 35
        },
        "outputId": "390ab70e-f281-4ccd-fe46-a93a5841cae5"
      },
      "outputs": [
        {
          "output_type": "execute_result",
          "data": {
            "text/plain": [
              "'Piloto automático'"
            ],
            "application/vnd.google.colaboratory.intrinsic+json": {
              "type": "string"
            }
          },
          "metadata": {},
          "execution_count": 74
        }
      ],
      "source": [
        "#ahora vamos a sacar un elemento 'Piloto automático'que ocupa la posición 3\n",
        "Accesorios.pop(3)"
      ]
    },
    {
      "cell_type": "code",
      "execution_count": null,
      "metadata": {
        "id": "Ku6ZHTdJltn_",
        "colab": {
          "base_uri": "https://localhost:8080/"
        },
        "outputId": "43e9dbf4-d92e-4544-e566-efea559f5ee2"
      },
      "outputs": [
        {
          "output_type": "execute_result",
          "data": {
            "text/plain": [
              "['Aire acondicionado',\n",
              " 'Asientos de cuero',\n",
              " 'Cerraduras eléctricas',\n",
              " 'Sensor de estacionamiento',\n",
              " 'Sensor de lluvia']"
            ]
          },
          "metadata": {},
          "execution_count": 75
        }
      ],
      "source": [
        "#vemos como quedó la lista\n",
        "Accesorios"
      ]
    },
    {
      "cell_type": "markdown",
      "metadata": {
        "id": "NySIp62hltoC"
      },
      "source": [
        "## *A.copy()*\n",
        "\n",
        "Crea una copia de la lista *A*.\n",
        "\n",
        "<font color=red>**Observación:**</font> El mismo resultado puede ser obtenido con el seguinte código:\n",
        "```\n",
        "A[:]\n",
        "```"
      ]
    },
    {
      "cell_type": "code",
      "execution_count": null,
      "metadata": {
        "id": "yP9ODygcltoC",
        "colab": {
          "base_uri": "https://localhost:8080/"
        },
        "outputId": "23cfbdc7-da6b-4480-d600-40e29301d4e9"
      },
      "outputs": [
        {
          "output_type": "execute_result",
          "data": {
            "text/plain": [
              "['Aire acondicionado',\n",
              " 'Asientos de cuero',\n",
              " 'Cerraduras eléctricas',\n",
              " 'Sensor de estacionamiento',\n",
              " 'Sensor de lluvia']"
            ]
          },
          "metadata": {},
          "execution_count": 76
        }
      ],
      "source": [
        "#copiamos los elementos de una lista para otra lista\n",
        "Accesorios_2 = Accesorios.copy()\n",
        "Accesorios_2"
      ]
    },
    {
      "cell_type": "code",
      "execution_count": null,
      "metadata": {
        "id": "W3eQdVWkltoF",
        "colab": {
          "base_uri": "https://localhost:8080/"
        },
        "outputId": "2f1a1c09-b072-4143-cb9c-2df2b574546a"
      },
      "outputs": [
        {
          "output_type": "execute_result",
          "data": {
            "text/plain": [
              "['Aire acondicionado',\n",
              " 'Asientos de cuero',\n",
              " 'Cerraduras eléctricas',\n",
              " 'Sensor de estacionamiento',\n",
              " 'Sensor de lluvia',\n",
              " '4 X 4']"
            ]
          },
          "metadata": {},
          "execution_count": 77
        }
      ],
      "source": [
        "#trabajamos sobre la lista que hemos creado copiando la lista Accesorios\n",
        "Accesorios_2.append('4 X 4')\n",
        "Accesorios_2"
      ]
    },
    {
      "cell_type": "code",
      "execution_count": null,
      "metadata": {
        "id": "OVbvjjmdltoG",
        "colab": {
          "base_uri": "https://localhost:8080/"
        },
        "outputId": "34eb8861-1400-4fd8-c46c-c25871e721a9"
      },
      "outputs": [
        {
          "output_type": "execute_result",
          "data": {
            "text/plain": [
              "['Aire acondicionado',\n",
              " 'Asientos de cuero',\n",
              " 'Cerraduras eléctricas',\n",
              " 'Sensor de estacionamiento',\n",
              " 'Sensor de lluvia']"
            ]
          },
          "metadata": {},
          "execution_count": 78
        }
      ],
      "source": [
        "#vemos que no se ha modificado la lista original\n",
        "Accesorios"
      ]
    },
    {
      "cell_type": "code",
      "execution_count": null,
      "metadata": {
        "id": "P-MN1JfAltoH",
        "colab": {
          "base_uri": "https://localhost:8080/"
        },
        "outputId": "ec2495df-5185-470c-8421-a168abfc9542"
      },
      "outputs": [
        {
          "output_type": "execute_result",
          "data": {
            "text/plain": [
              "['Aire acondicionado',\n",
              " 'Asientos de cuero',\n",
              " 'Cerraduras eléctricas',\n",
              " 'Sensor de estacionamiento',\n",
              " 'Sensor de lluvia']"
            ]
          },
          "metadata": {},
          "execution_count": 79
        }
      ],
      "source": [
        "#otra forma de realizar una copia de una lista es:\n",
        "Accesorios_2 = Accesorios [:]\n",
        "Accesorios_2\n",
        "#este método es lo mismo que con la fución -copy- \"Accesorios_2 = Accesorios.copy()\"\""
      ]
    },
    {
      "cell_type": "code",
      "execution_count": null,
      "metadata": {
        "id": "ZVQ38eqVltoJ",
        "colab": {
          "base_uri": "https://localhost:8080/"
        },
        "outputId": "f8f1cee0-774d-459a-c0e1-e6f1f5e4e36a"
      },
      "outputs": [
        {
          "output_type": "execute_result",
          "data": {
            "text/plain": [
              "['Llantas de aleación',\n",
              " 'Cerraduras eléctricas',\n",
              " 'Piloto automático',\n",
              " 'Bancos de cuero',\n",
              " 'Aire acondicionado']"
            ]
          },
          "metadata": {},
          "execution_count": 145
        }
      ],
      "source": [
        "#ejemplo:\n",
        "Accesorios_1 = [\n",
        "    'Llantas de aleación',\n",
        "    'Cerraduras eléctricas',\n",
        "    'Piloto automático',\n",
        "    'Bancos de cuero',\n",
        "    'Aire acondicionado'\n",
        "]\n",
        "#Tenemos que dejar una lista de esta forma:\n",
        "'''['Airbag',\n",
        " 'Aire acondicionado',\n",
        " 'Bancos de cuero',\n",
        " 'Cerraduras eléctricas',\n",
        " 'Llantas de aleación',\n",
        " 'Ventanas eléctricas']'''\n",
        "\n",
        "Accesorios_1"
      ]
    },
    {
      "cell_type": "code",
      "source": [
        "#como realizo el proceso correcto sin colocar número de elemento en el método -pop-\n",
        "#sin colocar que elemento quitar, si no que la intención es quitar el ultimo elemento de la lista\n",
        "'''\n",
        "Accesorios_1.append('Airbag')\n",
        "Accesorios_1.sort()\n",
        "Accesorios_1.pop()\n",
        "Accesorios_1.append('Ventanas eléctricas')\n",
        "Accesorios_1\n",
        "'''"
      ],
      "metadata": {
        "colab": {
          "base_uri": "https://localhost:8080/",
          "height": 35
        },
        "id": "6CJu3PSA155K",
        "outputId": "38929090-9e97-46fd-bff1-7cbd8cc547df"
      },
      "execution_count": null,
      "outputs": [
        {
          "output_type": "execute_result",
          "data": {
            "text/plain": [
              "\"\\nAccesorios_1.append('Airbag')\\nAccesorios_1.sort()\\nAccesorios_1.pop()\\nAccesorios_1.append('Ventanas eléctricas')\\nAccesorios_1\\n\""
            ],
            "application/vnd.google.colaboratory.intrinsic+json": {
              "type": "string"
            }
          },
          "metadata": {},
          "execution_count": 146
        }
      ]
    },
    {
      "cell_type": "code",
      "execution_count": null,
      "metadata": {
        "id": "bqPiw5wSltoM"
      },
      "outputs": [],
      "source": [
        "#Ahora vamos a sumar los elementos llamado 'Airbag'\n",
        "Accesorios_1.append('Airbag')"
      ]
    },
    {
      "cell_type": "code",
      "source": [
        "#ordenamos la lista\n",
        "Accesorios_1.sort()\n"
      ],
      "metadata": {
        "id": "ovmyvXRZ0mVX"
      },
      "execution_count": null,
      "outputs": []
    },
    {
      "cell_type": "code",
      "execution_count": null,
      "metadata": {
        "id": "Lo9WgzF6ltoP",
        "colab": {
          "base_uri": "https://localhost:8080/",
          "height": 35
        },
        "outputId": "76b024ec-6d6d-4c1f-8d74-0cadd73ec672"
      },
      "outputs": [
        {
          "output_type": "execute_result",
          "data": {
            "text/plain": [
              "'Piloto automático'"
            ],
            "application/vnd.google.colaboratory.intrinsic+json": {
              "type": "string"
            }
          },
          "metadata": {},
          "execution_count": 149
        }
      ],
      "source": [
        "#ahora vamos a extraer el último elemento 'Piloto automático' de la lista con el metodo 'pop'\n",
        "Accesorios_1.pop()\n"
      ]
    },
    {
      "cell_type": "code",
      "source": [
        "#Ahora sumamos el elementos llamado 'Ventanas eléctricas'\n",
        "Accesorios_1.append('Ventanas eléctricas')"
      ],
      "metadata": {
        "id": "5DxufDr85xEO"
      },
      "execution_count": null,
      "outputs": []
    },
    {
      "cell_type": "code",
      "execution_count": null,
      "metadata": {
        "id": "r2LPHB34ltoQ",
        "colab": {
          "base_uri": "https://localhost:8080/"
        },
        "outputId": "b0b8a8c1-3343-4576-d791-0d0e265c2762"
      },
      "outputs": [
        {
          "output_type": "execute_result",
          "data": {
            "text/plain": [
              "['Airbag',\n",
              " 'Aire acondicionado',\n",
              " 'Bancos de cuero',\n",
              " 'Cerraduras eléctricas',\n",
              " 'Llantas de aleación',\n",
              " 'Ventanas eléctricas']"
            ]
          },
          "metadata": {},
          "execution_count": 151
        }
      ],
      "source": [
        "#finalmente la lista queda:\n",
        "Accesorios_1"
      ]
    },
    {
      "cell_type": "code",
      "execution_count": null,
      "metadata": {
        "id": "UQqUkO8YltoR"
      },
      "outputs": [],
      "source": []
    },
    {
      "cell_type": "code",
      "execution_count": null,
      "metadata": {
        "id": "5hC4R-jNltoS"
      },
      "outputs": [],
      "source": []
    },
    {
      "cell_type": "markdown",
      "metadata": {
        "id": "8zMZNsg2ltoU"
      },
      "source": [
        "# <font color=green> 4. ESTRUCTURAS DE REPETICIÓN Y CONDICIONALES\n",
        "---"
      ]
    },
    {
      "cell_type": "markdown",
      "metadata": {
        "id": "gxUmCLyJltoU"
      },
      "source": [
        "# 4.1 Instrucción *for*\n",
        "\n",
        "#### Formato estándar\n",
        "\n",
        "```\n",
        "for <variable> in <coleccion>:\n",
        "    <instrucciones>\n",
        "```"
      ]
    },
    {
      "cell_type": "markdown",
      "metadata": {
        "id": "Irl5oa0altoU"
      },
      "source": [
        "### Loops con listas"
      ]
    },
    {
      "cell_type": "code",
      "execution_count": null,
      "metadata": {
        "id": "E1LZ5n25ltoV"
      },
      "outputs": [],
      "source": []
    },
    {
      "cell_type": "code",
      "execution_count": null,
      "metadata": {
        "id": "Z459QqsFltoY"
      },
      "outputs": [],
      "source": []
    },
    {
      "cell_type": "markdown",
      "metadata": {
        "id": "Gbztj9T4ltoZ"
      },
      "source": [
        "###  List comprehensions\n",
        "\n",
        "https://docs.python.org/3.6/tutorial/datastructures.html#list-comprehensions"
      ]
    },
    {
      "cell_type": "markdown",
      "metadata": {
        "id": "4Y8g0cSHjbof"
      },
      "source": [
        "*range()* -> https://docs.python.org/3.6/library/functions.html#func-range"
      ]
    },
    {
      "cell_type": "code",
      "execution_count": null,
      "metadata": {
        "id": "xDo9TLdYltoZ"
      },
      "outputs": [],
      "source": []
    },
    {
      "cell_type": "code",
      "execution_count": null,
      "metadata": {
        "id": "V12p_CQBltoc"
      },
      "outputs": [],
      "source": []
    },
    {
      "cell_type": "code",
      "execution_count": null,
      "metadata": {
        "id": "OOzHHRWHltof"
      },
      "outputs": [],
      "source": []
    },
    {
      "cell_type": "code",
      "execution_count": null,
      "metadata": {
        "id": "TKynwnxgltog"
      },
      "outputs": [],
      "source": []
    },
    {
      "cell_type": "code",
      "execution_count": null,
      "metadata": {
        "id": "d77YH_dVltoh"
      },
      "outputs": [],
      "source": []
    },
    {
      "cell_type": "code",
      "execution_count": null,
      "metadata": {
        "id": "3OmElLO2ltoi"
      },
      "outputs": [],
      "source": []
    },
    {
      "cell_type": "code",
      "execution_count": null,
      "metadata": {
        "id": "HKUkvcDkltok"
      },
      "outputs": [],
      "source": []
    },
    {
      "cell_type": "markdown",
      "metadata": {
        "id": "AcAcaKFXltom"
      },
      "source": [
        "# 4.2 Loops anidados"
      ]
    },
    {
      "cell_type": "code",
      "execution_count": null,
      "metadata": {
        "id": "mjgJCo3dlton"
      },
      "outputs": [],
      "source": [
        "datos = [\n",
        "    ['Llantas de aleación', 'Cerraduras eléctricas', 'Piloto automático', 'Asientos de cuero', 'Aire acondicionado', 'Sensor de estacionamiento', 'Sensor de crepúsculo', 'Sensor de lluvia'],\n",
        "    ['Central multimedia', 'Techo panorámico', 'Frenos ABS', '4 X 4', 'Panel digital', 'Piloto automático', 'Asientos de cuero', 'Cámara de estacionamiento'],\n",
        "    ['Piloto automático', 'Control de estabilidad', 'Sensor crepuscular', 'Frenos ABS', 'Transmisión automática', 'Asientos de cuero', 'Central multimedia', 'Ventanas eléctricas']\n",
        "]\n",
        "datos"
      ]
    },
    {
      "cell_type": "code",
      "execution_count": null,
      "metadata": {
        "id": "pLgxwApVltop"
      },
      "outputs": [],
      "source": []
    },
    {
      "cell_type": "code",
      "execution_count": null,
      "metadata": {
        "id": "OYnDRvcYltor"
      },
      "outputs": [],
      "source": []
    },
    {
      "cell_type": "code",
      "execution_count": null,
      "metadata": {
        "id": "DbJa5_cJltos"
      },
      "outputs": [],
      "source": []
    },
    {
      "cell_type": "markdown",
      "metadata": {
        "id": "RrGAOy1rn1Dj"
      },
      "source": [
        "## *set()*\n",
        "\n",
        "https://docs.python.org/3.6/library/stdtypes.html#types-set\n",
        "\n",
        "https://docs.python.org/3.6/library/functions.html#func-set"
      ]
    },
    {
      "cell_type": "code",
      "execution_count": null,
      "metadata": {
        "id": "CuB-9ClSltos"
      },
      "outputs": [],
      "source": []
    },
    {
      "cell_type": "markdown",
      "metadata": {
        "id": "9hHKKABhltot"
      },
      "source": [
        "### List comprehensions"
      ]
    },
    {
      "cell_type": "code",
      "execution_count": null,
      "metadata": {
        "id": "T6t79LTlltot"
      },
      "outputs": [],
      "source": []
    },
    {
      "cell_type": "markdown",
      "metadata": {
        "id": "cJ4fPdj5ltou"
      },
      "source": [
        "# 4.3 Instrucción *if*\n",
        "\n",
        "#### Formato estándar\n",
        "\n",
        "```\n",
        "if <condicion>:\n",
        "     <instrucciones en caso la condición sea verdadera>\n",
        "```"
      ]
    },
    {
      "cell_type": "markdown",
      "metadata": {
        "id": "bqOYDJiWltou"
      },
      "source": [
        "### Operadores de comparación: $==$, $!=$, $>$, $<$, $>=$, $<=$\n",
        "### y\n",
        "### Operadores lógicos: $and$, $or$, $not$"
      ]
    },
    {
      "cell_type": "code",
      "execution_count": null,
      "metadata": {
        "id": "5eY_XPmrltov"
      },
      "outputs": [],
      "source": [
        "# 1º objeto de la lista - Nombre del vehículo\n",
        "# 2º objeto de la lista - Año de fabricación\n",
        "# 3º objeto de la lista - Vehículo es cero km?\n",
        "\n",
        "datos = [\n",
        "    ['Jetta Variant', 2003, False],\n",
        "    ['Passat', 1991, False],\n",
        "    ['Crossfox', 1990, False],\n",
        "    ['DS5', 2019, True],\n",
        "    ['Aston Martin DB4', 2006, False],\n",
        "    ['Palio Weekend', 2012, False],\n",
        "    ['A5', 2019, True],\n",
        "    ['Série 3 Cabrio', 2009, False],\n",
        "    ['Dodge Jorney', 2019, False],\n",
        "    ['Carens', 2011, False]\n",
        "]\n",
        "datos"
      ]
    },
    {
      "cell_type": "code",
      "execution_count": null,
      "metadata": {
        "id": "nyb0iDH1ltoy"
      },
      "outputs": [],
      "source": []
    },
    {
      "cell_type": "code",
      "execution_count": null,
      "metadata": {
        "id": "5MlITJppltoy"
      },
      "outputs": [],
      "source": []
    },
    {
      "cell_type": "markdown",
      "metadata": {
        "id": "51Js0kXD0aRH"
      },
      "source": [
        "### List comprehensions"
      ]
    },
    {
      "cell_type": "code",
      "execution_count": null,
      "metadata": {
        "id": "Ly4QUX5J0aRI"
      },
      "outputs": [],
      "source": []
    },
    {
      "cell_type": "markdown",
      "metadata": {
        "id": "CKjrvO5Tltoz"
      },
      "source": [
        "# 4.4 Instrucciones *if-else* y *if-elif-else*\n",
        "\n",
        "#### Formato estándar\n",
        "\n",
        "```\n",
        "if <condicion>:\n",
        "    <instrucciones en caso la condición sea verdadera>\n",
        "else:\n",
        "    <instrucciones en caso la condición no sea verdadera>\n",
        "```"
      ]
    },
    {
      "cell_type": "code",
      "execution_count": null,
      "metadata": {
        "id": "K_VORb47ltoz"
      },
      "outputs": [],
      "source": []
    },
    {
      "cell_type": "code",
      "execution_count": null,
      "metadata": {
        "id": "vhz5T7jDlto1"
      },
      "outputs": [],
      "source": []
    },
    {
      "cell_type": "code",
      "execution_count": null,
      "metadata": {
        "id": "XlvlpPjhlto1"
      },
      "outputs": [],
      "source": []
    },
    {
      "cell_type": "markdown",
      "metadata": {
        "id": "Z2-8WeN1lto2"
      },
      "source": [
        "#### Formato estándar\n",
        "\n",
        "```\n",
        "if <condicion 1>:\n",
        "    <instrucciones en caso la condición 1 sea verdadera>\n",
        "elif <condicion 2>:\n",
        "    <instrucciones en caso la condición 2 sea verdadera>\n",
        "elif <condicion 3>:\n",
        "    <instrucciones en caso la condición 3 sea verdadera>\n",
        "                        .\n",
        "                        .\n",
        "                        .\n",
        "else:\n",
        "    <instrucciones en caso las condiciones anteriores no sean verdaderas>\n",
        "```"
      ]
    },
    {
      "cell_type": "code",
      "execution_count": null,
      "metadata": {
        "id": "ggrbaB4Tlto2"
      },
      "outputs": [],
      "source": []
    },
    {
      "cell_type": "code",
      "execution_count": null,
      "metadata": {
        "id": "KJgRc1F9lto3"
      },
      "outputs": [],
      "source": [
        "print('AND')\n",
        "print(f'(True and True) el resultado es: {True and True}')\n",
        "print(f'(True and False) el resultado es: {True and False}')\n",
        "print(f'(False and True) el resultado es: {False and True}')\n",
        "print(f'(False and False) el resultado es: {False and False}')"
      ]
    },
    {
      "cell_type": "code",
      "execution_count": null,
      "metadata": {
        "id": "sb0mSh-o0aRM"
      },
      "outputs": [],
      "source": [
        "print('OR')\n",
        "print(f'(True or True) el resultado es: {True or True}')\n",
        "print(f'(True or False) el resultado es: {True or False}')\n",
        "print(f'(False or True) el resultado es: {False or True}')\n",
        "print(f'(False or False) el resultado es: {False or False}')"
      ]
    },
    {
      "cell_type": "code",
      "execution_count": null,
      "metadata": {
        "id": "AfNdTPzElto3"
      },
      "outputs": [],
      "source": []
    },
    {
      "cell_type": "code",
      "execution_count": null,
      "metadata": {
        "id": "5bN7SuvTlto4"
      },
      "outputs": [],
      "source": []
    },
    {
      "cell_type": "code",
      "execution_count": null,
      "metadata": {
        "id": "dDEl3Vfglto4"
      },
      "outputs": [],
      "source": []
    },
    {
      "cell_type": "code",
      "execution_count": null,
      "metadata": {
        "id": "Ot4HLQlelto5"
      },
      "outputs": [],
      "source": []
    },
    {
      "cell_type": "code",
      "execution_count": null,
      "metadata": {
        "id": "FN26ZBKJlto5"
      },
      "outputs": [],
      "source": []
    },
    {
      "cell_type": "markdown",
      "metadata": {
        "id": "aRfQfubxlto6"
      },
      "source": [
        "# <font color=green> 5. NUMPY BÁSICO\n",
        "---\n",
        "\n",
        "Numpy es la abreviación de Numerical Python y es uno de los paquetes más importantes para procesamiento numérico en Python. Numpy ofrece la base para la mayoría de los paquetes de aplicaciones científicas que usen datos numéricos en Python (estructuras de datos y algoritmos). Pueden destacarse los siguientes recursos que el paquete Numpy contiene:\n",
        "\n",
        "- Un poderoso objeto array multidimensional;\n",
        "- Funciones matemáticas sofisticadas para operaciones con arrays sin la necesidad de utilización de bucles *for*;\n",
        "- Recursos de algebra linear y generación de números aleatórios\n",
        "\n",
        "Además de sus obvios usos científicos, el paquete NumPy también es muy utilizado en análisis de datos como un eficiente contenedor multidimensional de datos genéricos para transporte entre diversos algoritmos y bibliotecas en Python.\n",
        "\n",
        "**Versión:** 1.18.4\n",
        "\n",
        "**Instalación:** https://scipy.org/install.html\n",
        "\n",
        "**Documentación:** https://numpy.org/doc/1.18/"
      ]
    },
    {
      "cell_type": "markdown",
      "metadata": {
        "id": "RtG2-g1ultme"
      },
      "source": [
        "### Paquetes\n",
        "\n",
        "Existen diversos paquetes Python disponibles para download en internet. Cada paquete tiene como objetivo la solución de determinado tipo de problema y para esto son desarrollados nuevos tipos, funciones y métodos.\n",
        "\n",
        "Algunos paquetes son bastante utilizados en un contexto de ciencia de datos, como por ejemplo:\n",
        "\n",
        "- Numpy\n",
        "- Pandas\n",
        "- Scikit-learn\n",
        "- Matplotlib\n",
        "\n",
        "Algunos paquetes no son distribuidos en la instalación estándar de Python. En este caso debemos instalar los paquetes que necesitamos en nuestro sistema para poder utilizar sus funcionalidades."
      ]
    },
    {
      "cell_type": "markdown",
      "metadata": {
        "id": "b8prsQjmltme"
      },
      "source": [
        "### Importando todo el paquete"
      ]
    },
    {
      "cell_type": "code",
      "execution_count": null,
      "metadata": {
        "id": "lP0tqXHLltmf"
      },
      "outputs": [],
      "source": []
    },
    {
      "cell_type": "markdown",
      "metadata": {
        "id": "HsKgottF151c"
      },
      "source": [
        "https://numpy.org/doc/1.16/reference/generated/numpy.arange.html"
      ]
    },
    {
      "cell_type": "code",
      "execution_count": null,
      "metadata": {
        "id": "Y40UP3K7ltmg"
      },
      "outputs": [],
      "source": []
    },
    {
      "cell_type": "markdown",
      "metadata": {
        "id": "84-53f4Lltmh"
      },
      "source": [
        "### Importando todo el paquete y asignándole un nuevo nombre"
      ]
    },
    {
      "cell_type": "code",
      "execution_count": null,
      "metadata": {
        "id": "CzESWck7ltmi"
      },
      "outputs": [],
      "source": []
    },
    {
      "cell_type": "code",
      "execution_count": null,
      "metadata": {
        "id": "RC7Dr5Viltmj"
      },
      "outputs": [],
      "source": []
    },
    {
      "cell_type": "markdown",
      "metadata": {
        "id": "WWawttSpltml"
      },
      "source": [
        "### Importando parte del paquete"
      ]
    },
    {
      "cell_type": "code",
      "execution_count": null,
      "metadata": {
        "id": "8kTeo3Ltltmo"
      },
      "outputs": [],
      "source": []
    },
    {
      "cell_type": "code",
      "execution_count": null,
      "metadata": {
        "id": "4LPnpiEwltmt"
      },
      "outputs": [],
      "source": []
    },
    {
      "cell_type": "markdown",
      "metadata": {
        "id": "VSmffnCklto6"
      },
      "source": [
        "# 5.1 Creando arrays Numpy"
      ]
    },
    {
      "cell_type": "code",
      "execution_count": null,
      "metadata": {
        "id": "Wqpin_-Plto8"
      },
      "outputs": [],
      "source": []
    },
    {
      "cell_type": "markdown",
      "metadata": {
        "id": "ock4Ku-Ulto8"
      },
      "source": [
        "### A partir de listas\n",
        "\n",
        "https://numpy.org/doc/1.16/user/basics.creation.html"
      ]
    },
    {
      "cell_type": "code",
      "execution_count": null,
      "metadata": {
        "id": "82H-09CQlto9"
      },
      "outputs": [],
      "source": []
    },
    {
      "cell_type": "code",
      "execution_count": null,
      "metadata": {
        "id": "8VYE3JSYlto9"
      },
      "outputs": [],
      "source": []
    },
    {
      "cell_type": "code",
      "execution_count": null,
      "metadata": {
        "id": "OBsa5Cfplto-"
      },
      "outputs": [],
      "source": []
    },
    {
      "cell_type": "markdown",
      "metadata": {
        "id": "RfQ3jJSAlto-"
      },
      "source": [
        "https://numpy.org/doc/1.16/user/basics.types.html"
      ]
    },
    {
      "cell_type": "code",
      "execution_count": null,
      "metadata": {
        "id": "6yLpkJcAlto-"
      },
      "outputs": [],
      "source": []
    },
    {
      "cell_type": "markdown",
      "metadata": {
        "id": "1pFx86QPlto_"
      },
      "source": [
        "### A partir de datos externos\n",
        "\n",
        "https://numpy.org/doc/1.16/reference/generated/numpy.loadtxt.html"
      ]
    },
    {
      "cell_type": "code",
      "execution_count": null,
      "metadata": {
        "id": "26pQLNgrlto_"
      },
      "outputs": [],
      "source": []
    },
    {
      "cell_type": "code",
      "execution_count": null,
      "metadata": {
        "id": "FoP42bdpltpA",
        "scrolled": true
      },
      "outputs": [],
      "source": []
    },
    {
      "cell_type": "code",
      "execution_count": null,
      "metadata": {
        "id": "MNPjZJbYltpA"
      },
      "outputs": [],
      "source": []
    },
    {
      "cell_type": "markdown",
      "metadata": {
        "id": "_wnTg0wJltpB"
      },
      "source": [
        "### Arrays con dos dimensiones"
      ]
    },
    {
      "cell_type": "code",
      "execution_count": null,
      "metadata": {
        "id": "Gt1dL27GltpB",
        "scrolled": true
      },
      "outputs": [],
      "source": [
        "datos = [\n",
        "    ['Llantas de aleación', 'Cerraduras eléctricas', 'Piloto automático', 'Asientos de cuero', 'Aire acondicionado', 'Sensor de estacionamiento', 'Sensor de crepúsculo', 'Sensor de lluvia'],\n",
        "    ['Central multimedia', 'Techo panorámico', 'Frenos ABS', '4 X 4', 'Panel digital', 'Piloto automático', 'Asientos de cuero', 'Cámara de estacionamiento'],\n",
        "    ['Piloto automático', 'Control de estabilidad', 'Sensor crepuscular', 'Frenos ABS', 'Transmisión automática', 'Asientos de cuero', 'Central multimedia', 'Ventanas eléctricas']\n",
        "]\n",
        "datos"
      ]
    },
    {
      "cell_type": "code",
      "execution_count": null,
      "metadata": {
        "id": "IlbYeZPkltpC"
      },
      "outputs": [],
      "source": []
    },
    {
      "cell_type": "code",
      "execution_count": null,
      "metadata": {
        "id": "FgjmWozgltpD",
        "scrolled": true
      },
      "outputs": [],
      "source": []
    },
    {
      "cell_type": "code",
      "execution_count": null,
      "metadata": {
        "id": "TDM9HskUltpD"
      },
      "outputs": [],
      "source": []
    },
    {
      "cell_type": "code",
      "execution_count": null,
      "metadata": {
        "id": "bBmnzpF5ltpE"
      },
      "outputs": [],
      "source": []
    },
    {
      "cell_type": "markdown",
      "metadata": {
        "id": "cPbkST9pltpE"
      },
      "source": [
        "### Comparando desempeño con listas"
      ]
    },
    {
      "cell_type": "code",
      "execution_count": null,
      "metadata": {
        "id": "tTPC-G4vltpE"
      },
      "outputs": [],
      "source": []
    },
    {
      "cell_type": "code",
      "execution_count": null,
      "metadata": {
        "id": "PIC-ndg9ltpF"
      },
      "outputs": [],
      "source": []
    },
    {
      "cell_type": "code",
      "execution_count": null,
      "metadata": {
        "id": "vXy57nk2ltpF"
      },
      "outputs": [],
      "source": []
    },
    {
      "cell_type": "code",
      "execution_count": null,
      "metadata": {
        "id": "I94lVgCRltpG"
      },
      "outputs": [],
      "source": []
    },
    {
      "cell_type": "markdown",
      "metadata": {
        "id": "ul4MuKyTltpG"
      },
      "source": [
        "# 5.2 Operaciones aritméticas con arrays Numpy"
      ]
    },
    {
      "cell_type": "markdown",
      "metadata": {
        "id": "QwnxO_rYltpH"
      },
      "source": [
        "### Operaciones entre arrays y constantes"
      ]
    },
    {
      "cell_type": "code",
      "execution_count": null,
      "metadata": {
        "id": "63KVHPK0ltpH"
      },
      "outputs": [],
      "source": [
        "km = [44410., 5712., 37123., 0., 25757.]\n",
        "años = [2003, 1991, 1990, 2019, 2006]"
      ]
    },
    {
      "cell_type": "code",
      "execution_count": null,
      "metadata": {
        "id": "AryIZaBIltpH"
      },
      "outputs": [],
      "source": []
    },
    {
      "cell_type": "code",
      "execution_count": null,
      "metadata": {
        "id": "s8GvEk4HltpI"
      },
      "outputs": [],
      "source": [
        "km = np.array([44410., 5712., 37123., 0., 25757.])\n",
        "años = np.array([2003, 1991, 1990, 2019, 2006])"
      ]
    },
    {
      "cell_type": "code",
      "execution_count": null,
      "metadata": {
        "id": "aUnYV7OultpI"
      },
      "outputs": [],
      "source": []
    },
    {
      "cell_type": "code",
      "execution_count": null,
      "metadata": {
        "id": "vg5yZ9IpltpJ"
      },
      "outputs": [],
      "source": []
    },
    {
      "cell_type": "markdown",
      "metadata": {
        "id": "qn1PUsM9ltpJ"
      },
      "source": [
        "### Operaciones entre arrays"
      ]
    },
    {
      "cell_type": "code",
      "execution_count": null,
      "metadata": {
        "id": "gU_d5aZkltpJ"
      },
      "outputs": [],
      "source": []
    },
    {
      "cell_type": "code",
      "execution_count": null,
      "metadata": {
        "id": "U9DXntUEltpK"
      },
      "outputs": [],
      "source": []
    },
    {
      "cell_type": "code",
      "execution_count": null,
      "metadata": {
        "id": "n0rPxgY1ltpL"
      },
      "outputs": [],
      "source": []
    },
    {
      "cell_type": "markdown",
      "metadata": {
        "id": "o4-gsGICltpN"
      },
      "source": [
        "### Operaciones con arrays de dos dimensiones"
      ]
    },
    {
      "cell_type": "code",
      "execution_count": null,
      "metadata": {
        "id": "VT71Pbb3ltpN"
      },
      "outputs": [],
      "source": []
    },
    {
      "cell_type": "code",
      "execution_count": null,
      "metadata": {
        "id": "bgDe00q8ltpO"
      },
      "outputs": [],
      "source": []
    },
    {
      "cell_type": "code",
      "execution_count": null,
      "metadata": {
        "id": "jIQU2ugKltpP"
      },
      "outputs": [],
      "source": []
    },
    {
      "cell_type": "markdown",
      "metadata": {
        "id": "dsgz-E5ZltpP"
      },
      "source": [
        "![1410-img01.png](https://caelum-online-public.s3.amazonaws.com/1410-pythondatascience/01/1410-img01.png)"
      ]
    },
    {
      "cell_type": "code",
      "execution_count": null,
      "metadata": {
        "id": "imANn6HultpQ"
      },
      "outputs": [],
      "source": []
    },
    {
      "cell_type": "code",
      "execution_count": null,
      "metadata": {
        "id": "Nkp9ljkvltpQ"
      },
      "outputs": [],
      "source": []
    },
    {
      "cell_type": "code",
      "execution_count": null,
      "metadata": {
        "id": "njJ2z3HJltpR"
      },
      "outputs": [],
      "source": []
    },
    {
      "cell_type": "markdown",
      "metadata": {
        "id": "4CAwtS0-ltpR"
      },
      "source": [
        "# 5.3 Selecciones con arrays Numpy"
      ]
    },
    {
      "cell_type": "markdown",
      "metadata": {
        "id": "QDAT1vODltpS"
      },
      "source": [
        "![1410-img01.png](https://caelum-online-public.s3.amazonaws.com/1410-pythondatascience/01/1410-img01.png)"
      ]
    },
    {
      "cell_type": "code",
      "execution_count": null,
      "metadata": {
        "id": "nZpPGS2TltpS"
      },
      "outputs": [],
      "source": []
    },
    {
      "cell_type": "markdown",
      "metadata": {
        "id": "b--BIPcOltpT"
      },
      "source": [
        "![1410-img02.png](https://caelum-online-public.s3.amazonaws.com/1410-pythondatascience/01/1410-img02.png)"
      ]
    },
    {
      "cell_type": "markdown",
      "metadata": {
        "id": "86-hOHa7ltpT"
      },
      "source": [
        "### Indexación\n",
        "\n",
        "<font color=red>**Observación:**</font> La indexación tiene inicio en cero."
      ]
    },
    {
      "cell_type": "code",
      "execution_count": null,
      "metadata": {
        "id": "mr0Q_X0JltpT"
      },
      "outputs": [],
      "source": []
    },
    {
      "cell_type": "code",
      "execution_count": null,
      "metadata": {
        "id": "VxiR_IgdltpU"
      },
      "outputs": [],
      "source": []
    },
    {
      "cell_type": "code",
      "execution_count": null,
      "metadata": {
        "id": "xGDomIyAltpU"
      },
      "outputs": [],
      "source": []
    },
    {
      "cell_type": "code",
      "execution_count": null,
      "metadata": {
        "id": "QEO5Za5PltpV"
      },
      "outputs": [],
      "source": []
    },
    {
      "cell_type": "code",
      "execution_count": null,
      "metadata": {
        "id": "rvkeMK8KltpV"
      },
      "outputs": [],
      "source": []
    },
    {
      "cell_type": "code",
      "execution_count": null,
      "metadata": {
        "id": "X8c-lJRJltpW"
      },
      "outputs": [],
      "source": []
    },
    {
      "cell_type": "markdown",
      "metadata": {
        "id": "fCWUSI1zltpZ"
      },
      "source": [
        "## <font color=green>**Consejo:**</font>\n",
        "### *ndarray[ linea ][ columna ]* o *ndarray[ linea, columna ]*"
      ]
    },
    {
      "cell_type": "code",
      "execution_count": null,
      "metadata": {
        "id": "Nxc3uY-ZltpZ"
      },
      "outputs": [],
      "source": []
    },
    {
      "cell_type": "code",
      "execution_count": null,
      "metadata": {
        "id": "xp8ByjualtpZ"
      },
      "outputs": [],
      "source": []
    },
    {
      "cell_type": "markdown",
      "metadata": {
        "id": "7osmTUC4ltpa"
      },
      "source": [
        " ### Particiones\n",
        "\n",
        "La sintaxis para realizar particiones en un array Numpy es $i : j : k$ donde $i$ es el índice inicial, $j$ es el índice final, y $k$ es el indicador de intervalo ($k\\neq0$)\n",
        "\n",
        "<font color=red>**Observación:**</font> En las particiones (*slices*) el objeto con índice i es **incluído** y el objeto con índice j **no es incluído** en el resultado."
      ]
    },
    {
      "cell_type": "markdown",
      "metadata": {
        "id": "HEx4TbNlltpa"
      },
      "source": [
        "![1410-img01.png](https://caelum-online-public.s3.amazonaws.com/1410-pythondatascience/01/1410-img01.png)"
      ]
    },
    {
      "cell_type": "code",
      "execution_count": null,
      "metadata": {
        "id": "tlaD1SENltpb"
      },
      "outputs": [],
      "source": []
    },
    {
      "cell_type": "code",
      "execution_count": null,
      "metadata": {
        "id": "vXLIO1cVltpc"
      },
      "outputs": [],
      "source": []
    },
    {
      "cell_type": "code",
      "execution_count": null,
      "metadata": {
        "id": "kYLgsQcHltpc"
      },
      "outputs": [],
      "source": []
    },
    {
      "cell_type": "code",
      "execution_count": null,
      "metadata": {
        "id": "H2MJpIasltpd"
      },
      "outputs": [],
      "source": []
    },
    {
      "cell_type": "code",
      "execution_count": null,
      "metadata": {
        "id": "YVzf4fNCltpe"
      },
      "outputs": [],
      "source": []
    },
    {
      "cell_type": "code",
      "execution_count": null,
      "metadata": {
        "id": "bPyQsUFPltpf"
      },
      "outputs": [],
      "source": []
    },
    {
      "cell_type": "code",
      "execution_count": null,
      "metadata": {
        "id": "IRxfixG-ltpg"
      },
      "outputs": [],
      "source": []
    },
    {
      "cell_type": "code",
      "execution_count": null,
      "metadata": {
        "id": "wfoJ84haltph"
      },
      "outputs": [],
      "source": []
    },
    {
      "cell_type": "code",
      "execution_count": null,
      "metadata": {
        "id": "UeejSXUAltph"
      },
      "outputs": [],
      "source": []
    },
    {
      "cell_type": "markdown",
      "metadata": {
        "id": "-fW4EXIqltpi"
      },
      "source": [
        "### Indexación con array booleano\n",
        "\n",
        "<font color=red>**Observación:**</font> Selecciona un grupo de líneas y columnas siguiendo las etiquetas o un array booleano."
      ]
    },
    {
      "cell_type": "code",
      "execution_count": null,
      "metadata": {
        "id": "MgmH-rCSltpi"
      },
      "outputs": [],
      "source": []
    },
    {
      "cell_type": "code",
      "execution_count": null,
      "metadata": {
        "id": "HN1i-BlLltpj"
      },
      "outputs": [],
      "source": []
    },
    {
      "cell_type": "code",
      "execution_count": null,
      "metadata": {
        "id": "iXJa9tL4ltpj"
      },
      "outputs": [],
      "source": []
    },
    {
      "cell_type": "code",
      "execution_count": null,
      "metadata": {
        "id": "54gH6X5eltpk"
      },
      "outputs": [],
      "source": []
    },
    {
      "cell_type": "code",
      "execution_count": null,
      "metadata": {
        "id": "F3z6zMELltpk"
      },
      "outputs": [],
      "source": []
    },
    {
      "cell_type": "code",
      "execution_count": null,
      "metadata": {
        "id": "pk8A68z1ltpl"
      },
      "outputs": [],
      "source": []
    },
    {
      "cell_type": "code",
      "execution_count": null,
      "metadata": {
        "id": "WUVMN29_ltpm"
      },
      "outputs": [],
      "source": []
    },
    {
      "cell_type": "markdown",
      "metadata": {
        "id": "Acw1DffHltpn"
      },
      "source": [
        "# 5.4 Atributos y métodos de arrays Numpy"
      ]
    },
    {
      "cell_type": "markdown",
      "metadata": {
        "id": "RBnSne6Eltpo"
      },
      "source": [
        "### Atributos\n",
        "\n",
        "https://numpy.org/doc/1.16/reference/arrays.ndarray.html#array-attributes"
      ]
    },
    {
      "cell_type": "code",
      "execution_count": null,
      "metadata": {
        "id": "stjvD6m8ltpo"
      },
      "outputs": [],
      "source": []
    },
    {
      "cell_type": "markdown",
      "metadata": {
        "id": "uKqPxg2Zltpo"
      },
      "source": [
        "## *ndarray.shape*\n",
        "\n",
        "Devuelve una tupla con las dimensiones del array."
      ]
    },
    {
      "cell_type": "code",
      "execution_count": null,
      "metadata": {
        "id": "gmaZhF04ltpp"
      },
      "outputs": [],
      "source": []
    },
    {
      "cell_type": "markdown",
      "metadata": {
        "id": "XaY6oXkmltpp"
      },
      "source": [
        "## *ndarray.ndim*\n",
        "\n",
        "Devuelve el número de dimensiones del array."
      ]
    },
    {
      "cell_type": "code",
      "execution_count": null,
      "metadata": {
        "id": "inJ4HDjaltpq"
      },
      "outputs": [],
      "source": []
    },
    {
      "cell_type": "markdown",
      "metadata": {
        "id": "ESgVt5xOltpq"
      },
      "source": [
        "## *ndarray.size*\n",
        "\n",
        "Devuelve el número de elementos del array."
      ]
    },
    {
      "cell_type": "code",
      "execution_count": null,
      "metadata": {
        "id": "BWr4efoiltpq"
      },
      "outputs": [],
      "source": []
    },
    {
      "cell_type": "markdown",
      "metadata": {
        "id": "Ox8JlBM3ltpr"
      },
      "source": [
        "## *ndarray.dtype*\n",
        "\n",
        "Devuelve el tipo de datos de los elementos del array."
      ]
    },
    {
      "cell_type": "code",
      "execution_count": null,
      "metadata": {
        "id": "npiL84Vfltpu"
      },
      "outputs": [],
      "source": []
    },
    {
      "cell_type": "markdown",
      "metadata": {
        "id": "j7uPN16oltpv"
      },
      "source": [
        "## *ndarray.T*\n",
        "\n",
        "Devuelve el array transpuesto, es decir, convierte líneas en columnas y viceversa."
      ]
    },
    {
      "cell_type": "code",
      "execution_count": null,
      "metadata": {
        "id": "bLjrrx56ltpv"
      },
      "outputs": [],
      "source": []
    },
    {
      "cell_type": "code",
      "execution_count": null,
      "metadata": {
        "id": "5A9SlJQvltpw"
      },
      "outputs": [],
      "source": []
    },
    {
      "cell_type": "markdown",
      "metadata": {
        "id": "e9r6ryTrltpw"
      },
      "source": [
        "### Métodos\n",
        "\n",
        "https://numpy.org/doc/1.16/reference/arrays.ndarray.html#array-methods"
      ]
    },
    {
      "cell_type": "markdown",
      "metadata": {
        "id": "SR9KYy-0ltpw"
      },
      "source": [
        "## *ndarray.tolist()*\n",
        "\n",
        "Devuelve el array como una lista Python."
      ]
    },
    {
      "cell_type": "code",
      "execution_count": null,
      "metadata": {
        "id": "C2aTAwOXltpw"
      },
      "outputs": [],
      "source": []
    },
    {
      "cell_type": "markdown",
      "metadata": {
        "id": "bHxcxugPltpx"
      },
      "source": [
        "## *ndarray.reshape(shape[, order])*\n",
        "\n",
        "Devuelve un array que contiene los mismos datos con una nueva forma."
      ]
    },
    {
      "cell_type": "code",
      "execution_count": null,
      "metadata": {
        "id": "lwESxO71ltpx"
      },
      "outputs": [],
      "source": []
    },
    {
      "cell_type": "code",
      "execution_count": null,
      "metadata": {
        "id": "sh9poyfzltpy"
      },
      "outputs": [],
      "source": []
    },
    {
      "cell_type": "code",
      "execution_count": null,
      "metadata": {
        "id": "5332Xu8-ltpy"
      },
      "outputs": [],
      "source": []
    },
    {
      "cell_type": "code",
      "execution_count": null,
      "metadata": {
        "id": "2RoZvbgHltpz"
      },
      "outputs": [],
      "source": []
    },
    {
      "cell_type": "code",
      "execution_count": null,
      "metadata": {
        "id": "6q0dJZ-dltp0"
      },
      "outputs": [],
      "source": [
        "km = [44410, 5712, 37123, 0, 25757]\n",
        "años = [2003, 1991, 1990, 2019, 2006]"
      ]
    },
    {
      "cell_type": "code",
      "execution_count": null,
      "metadata": {
        "id": "bs56aGrkltp0"
      },
      "outputs": [],
      "source": []
    },
    {
      "cell_type": "code",
      "execution_count": null,
      "metadata": {
        "id": "s_GkTk2fltp1"
      },
      "outputs": [],
      "source": []
    },
    {
      "cell_type": "code",
      "execution_count": null,
      "metadata": {
        "id": "xodm8DVZltp1"
      },
      "outputs": [],
      "source": []
    },
    {
      "cell_type": "markdown",
      "metadata": {
        "id": "Tdj5iArbltp2"
      },
      "source": [
        "## *ndarray.resize(new_shape[, refcheck])*\n",
        "\n",
        "Cambia la forma y el tamaño del array."
      ]
    },
    {
      "cell_type": "code",
      "execution_count": null,
      "metadata": {
        "id": "vB2zxCDtltp2"
      },
      "outputs": [],
      "source": []
    },
    {
      "cell_type": "code",
      "execution_count": null,
      "metadata": {
        "id": "IMv0m4Multp2"
      },
      "outputs": [],
      "source": []
    },
    {
      "cell_type": "code",
      "execution_count": null,
      "metadata": {
        "id": "wpAi9928ltp3"
      },
      "outputs": [],
      "source": []
    },
    {
      "cell_type": "code",
      "execution_count": null,
      "metadata": {
        "id": "CJyuKqaFltp3"
      },
      "outputs": [],
      "source": []
    },
    {
      "cell_type": "code",
      "execution_count": null,
      "metadata": {
        "id": "bj_iPZAultp4"
      },
      "outputs": [],
      "source": []
    },
    {
      "cell_type": "markdown",
      "metadata": {
        "id": "GPSk7Q_Dltp4"
      },
      "source": [
        "# 5.5 Estadísticas con arrays Numpy\n",
        "\n",
        "https://numpy.org/doc/1.16/reference/arrays.ndarray.html#calculation\n",
        "\n",
        "y\n",
        "\n",
        "https://numpy.org/doc/1.16/reference/routines.statistics.html\n",
        "\n",
        "y\n",
        "\n",
        "https://numpy.org/doc/1.16/reference/routines.math.html"
      ]
    },
    {
      "cell_type": "code",
      "execution_count": null,
      "metadata": {
        "id": "RH2u1orXltp5"
      },
      "outputs": [],
      "source": [
        "años = np.loadtxt(fname = \"carros-años.txt\", dtype = int)\n",
        "km = np.loadtxt(fname = \"carros-km.txt\")\n",
        "valor = np.loadtxt(fname = \"carros-valor.txt\")"
      ]
    },
    {
      "cell_type": "code",
      "execution_count": null,
      "metadata": {
        "id": "wbITF7r6ltp5"
      },
      "outputs": [],
      "source": []
    },
    {
      "cell_type": "markdown",
      "metadata": {
        "id": "U_x3SOVDltp7"
      },
      "source": [
        "https://numpy.org/doc/1.16/reference/generated/numpy.column_stack.html"
      ]
    },
    {
      "cell_type": "code",
      "execution_count": null,
      "metadata": {
        "id": "wefxl-XBltp8"
      },
      "outputs": [],
      "source": []
    },
    {
      "cell_type": "code",
      "execution_count": null,
      "metadata": {
        "id": "OzDTTmj8ltp_",
        "scrolled": true
      },
      "outputs": [],
      "source": []
    },
    {
      "cell_type": "markdown",
      "metadata": {
        "id": "Me6yUU_RltqA"
      },
      "source": [
        "## *np.mean()*\n",
        "\n",
        "Devuelve el promedio de los elementos del array a lo largo del eje especificado."
      ]
    },
    {
      "cell_type": "code",
      "execution_count": null,
      "metadata": {
        "id": "MNEKcP38ltqA"
      },
      "outputs": [],
      "source": []
    },
    {
      "cell_type": "code",
      "execution_count": null,
      "metadata": {
        "id": "sekHQ84zltqB"
      },
      "outputs": [],
      "source": []
    },
    {
      "cell_type": "code",
      "execution_count": null,
      "metadata": {
        "id": "RpyETIVSltqC"
      },
      "outputs": [],
      "source": []
    },
    {
      "cell_type": "code",
      "execution_count": null,
      "metadata": {
        "id": "_-kpcTI8ltqD",
        "scrolled": true
      },
      "outputs": [],
      "source": []
    },
    {
      "cell_type": "markdown",
      "metadata": {
        "id": "71jViVBUltqE"
      },
      "source": [
        "## *np.std()*\n",
        "\n",
        "Devuelve la desviación estándar de los elementos del array a lo largo del eje especificado."
      ]
    },
    {
      "cell_type": "code",
      "execution_count": null,
      "metadata": {
        "id": "lEwUbPx2ltqE",
        "scrolled": true
      },
      "outputs": [],
      "source": []
    },
    {
      "cell_type": "markdown",
      "metadata": {
        "id": "JTUH-vAeltqG"
      },
      "source": [
        "## *ndarray.sum()*\n",
        "\n",
        "Devuelve la suma de los elementos del array a lo largo del eje especificado."
      ]
    },
    {
      "cell_type": "code",
      "execution_count": null,
      "metadata": {
        "id": "jIi3yoaWltqG"
      },
      "outputs": [],
      "source": []
    },
    {
      "cell_type": "code",
      "execution_count": null,
      "metadata": {
        "id": "X3QYbdYLltqH"
      },
      "outputs": [],
      "source": []
    },
    {
      "cell_type": "markdown",
      "metadata": {
        "id": "WbBD5ixaltqH"
      },
      "source": [
        "## *np.sum()*\n",
        "\n",
        "Devuelve la suma de los elementos del array a lo largo del eje especificado."
      ]
    },
    {
      "cell_type": "code",
      "execution_count": null,
      "metadata": {
        "id": "omB6kgWgltqH"
      },
      "outputs": [],
      "source": []
    },
    {
      "cell_type": "code",
      "execution_count": null,
      "metadata": {
        "id": "LiD4G3kQltqI"
      },
      "outputs": [],
      "source": []
    },
    {
      "cell_type": "code",
      "execution_count": null,
      "metadata": {
        "id": "kpakpnntltqJ"
      },
      "outputs": [],
      "source": []
    }
  ],
  "metadata": {
    "colab": {
      "provenance": [],
      "include_colab_link": true
    },
    "kernelspec": {
      "display_name": "Python 3",
      "language": "python",
      "name": "python3"
    },
    "language_info": {
      "codemirror_mode": {
        "name": "ipython",
        "version": 3
      },
      "file_extension": ".py",
      "mimetype": "text/x-python",
      "name": "python",
      "nbconvert_exporter": "python",
      "pygments_lexer": "ipython3",
      "version": "3.7.1"
    }
  },
  "nbformat": 4,
  "nbformat_minor": 0
}